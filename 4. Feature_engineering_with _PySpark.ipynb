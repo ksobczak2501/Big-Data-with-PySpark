{
 "cells": [
  {
   "cell_type": "markdown",
   "metadata": {},
   "source": [
    "# Exploratory Data Analysis"
   ]
  },
  {
   "cell_type": "markdown",
   "metadata": {},
   "source": [
    "## Check Version\n",
    "Checking the version of which Spark and Python installed is important as it changes very quickly and drastically. Reading the wrong documentation can cause lots of lost time and unnecessary frustration!"
   ]
  },
  {
   "cell_type": "code",
   "execution_count": 2,
   "metadata": {
    "ExecuteTime": {
     "end_time": "2021-03-03T09:32:12.358767Z",
     "start_time": "2021-03-03T09:31:51.506383Z"
    }
   },
   "outputs": [],
   "source": [
    "from pyspark.sql import SparkSession\n",
    "spark = SparkSession.builder.getOrCreate()"
   ]
  },
  {
   "cell_type": "code",
   "execution_count": 3,
   "metadata": {
    "ExecuteTime": {
     "end_time": "2021-03-03T09:32:12.364557Z",
     "start_time": "2021-03-03T09:32:12.360905Z"
    }
   },
   "outputs": [
    {
     "name": "stdout",
     "output_type": "stream",
     "text": [
      "2.4.5-amzn-0\n",
      "sys.version_info(major=3, minor=7, micro=6, releaselevel='final', serial=0)\n"
     ]
    }
   ],
   "source": [
    "# Return spark version\n",
    "print(spark.version)\n",
    "\n",
    "# Return python version\n",
    "import sys\n",
    "print(sys.version_info)"
   ]
  },
  {
   "cell_type": "markdown",
   "metadata": {},
   "source": [
    "## Load in the data\n",
    "Reading in data is the first step to using PySpark for data science! Let's leverage the new industry standard of parquet files!"
   ]
  },
  {
   "cell_type": "code",
   "execution_count": 178,
   "metadata": {
    "ExecuteTime": {
     "end_time": "2021-03-03T10:21:56.381431Z",
     "start_time": "2021-03-03T10:21:56.308554Z"
    }
   },
   "outputs": [
    {
     "name": "stdout",
     "output_type": "stream",
     "text": [
      "Index(['No.', 'MLSID', 'StreetNumberNumeric', 'streetaddress', 'STREETNAME',\n",
      "       'PostalCode', 'StateOrProvince', 'City', 'SalesClosePrice', 'LISTDATE',\n",
      "       'LISTPRICE', 'LISTTYPE', 'OriginalListPrice', 'PricePerTSFT',\n",
      "       'FOUNDATIONSIZE', 'FENCE', 'MapLetter', 'LotSizeDimensions',\n",
      "       'SchoolDistrictNumber', 'DAYSONMARKET', 'offmarketdate', 'Fireplaces',\n",
      "       'RoomArea4', 'roomtype', 'ROOF', 'RoomFloor4', 'PotentialShortSale',\n",
      "       'PoolDescription', 'PDOM', 'GarageDescription', 'SQFTABOVEGROUND',\n",
      "       'Taxes', 'RoomFloor1', 'RoomArea1', 'TAXWITHASSESSMENTS', 'TAXYEAR',\n",
      "       'LivingArea', 'UNITNUMBER', 'YEARBUILT', 'ZONING', 'STYLE', 'ACRES',\n",
      "       'CoolingDescription', 'APPLIANCES', 'backonmarketdate',\n",
      "       'ROOMFAMILYCHAR', 'RoomArea3', 'EXTERIOR', 'RoomFloor3', 'RoomFloor2',\n",
      "       'RoomArea2', 'DiningRoomDescription', 'BASEMENT', 'BathsFull',\n",
      "       'BathsHalf', 'BATHQUARTER', 'BATHSTHREEQUARTER', 'Class', 'BATHSTOTAL',\n",
      "       'BATHDESC', 'RoomArea5', 'RoomFloor5', 'RoomArea6', 'RoomFloor6',\n",
      "       'RoomArea7', 'RoomFloor7', 'RoomArea8', 'RoomFloor8', 'Bedrooms',\n",
      "       'SQFTBELOWGROUND', 'AssumableMortgage', 'AssociationFee',\n",
      "       'ASSESSMENTPENDING', 'AssessedValuation'],\n",
      "      dtype='object')\n"
     ]
    }
   ],
   "source": [
    "import pandas as pd\n",
    "# Read the file into a dataframe\n",
    "df = pd.read_csv('2017_StPaul_MN_Real_Estate.csv')\n",
    "# df = spark.createDataFrame(df)\n",
    "# Print columns in dataframe\n",
    "print(df.columns)"
   ]
  },
  {
   "cell_type": "code",
   "execution_count": 179,
   "metadata": {
    "ExecuteTime": {
     "end_time": "2021-03-03T10:21:56.475702Z",
     "start_time": "2021-03-03T10:21:56.469195Z"
    }
   },
   "outputs": [],
   "source": [
    "df = df[['No.', 'MLSID', 'StreetNumberNumeric', 'streetaddress', 'STREETNAME',\n",
    "        'PostalCode', 'StateOrProvince', 'City', 'SalesClosePrice', 'LISTDATE',\n",
    "        'LISTPRICE', 'LISTTYPE', 'OriginalListPrice', 'PricePerTSFT',\n",
    "        'FOUNDATIONSIZE', 'MapLetter',\n",
    "        'SchoolDistrictNumber', 'DAYSONMARKET', 'offmarketdate', 'Fireplaces',\n",
    "        'roomtype', 'PotentialShortSale',\n",
    "        'PDOM', 'GarageDescription', 'SQFTABOVEGROUND',\n",
    "         'Taxes', 'TAXWITHASSESSMENTS', 'TAXYEAR',\n",
    "        'LivingArea', 'YEARBUILT', 'ZONING', 'STYLE', 'ACRES',\n",
    "        'CoolingDescription', 'backonmarketdate',\n",
    "         'EXTERIOR',\n",
    "         'BASEMENT', 'BathsFull',\n",
    "         'BathsHalf', 'BATHQUARTER', 'BATHSTHREEQUARTER', 'Class', 'BATHSTOTAL',\n",
    "         'Bedrooms',\n",
    "       'SQFTBELOWGROUND', 'AssociationFee',\n",
    "       'ASSESSMENTPENDING', 'AssessedValuation'\n",
    "        ]]"
   ]
  },
  {
   "cell_type": "code",
   "execution_count": 180,
   "metadata": {
    "ExecuteTime": {
     "end_time": "2021-03-03T10:21:57.878065Z",
     "start_time": "2021-03-03T10:21:56.706969Z"
    }
   },
   "outputs": [],
   "source": [
    "df = spark.createDataFrame(df)"
   ]
  },
  {
   "cell_type": "markdown",
   "metadata": {},
   "source": [
    "### What are we predicting?\n",
    "Which of these fields (or columns) is the value we are trying to predict for?\n",
    "\n",
    "* `TAXES`\n",
    "* `SALESCLOSEPRICE`\n",
    "* `DAYSONMARKET`\n",
    "* `LISTPRICE`"
   ]
  },
  {
   "cell_type": "code",
   "execution_count": 181,
   "metadata": {
    "ExecuteTime": {
     "end_time": "2021-03-03T10:22:16.479380Z",
     "start_time": "2021-03-03T10:22:04.788314Z"
    }
   },
   "outputs": [
    {
     "name": "stdout",
     "output_type": "stream",
     "text": [
      "+-------+-----------------+\n",
      "|summary|  SALESCLOSEPRICE|\n",
      "+-------+-----------------+\n",
      "|  count|             5000|\n",
      "|   mean|      262804.4668|\n",
      "| stddev|140559.8259199855|\n",
      "|    min|            48000|\n",
      "|    max|          1700000|\n",
      "+-------+-----------------+\n",
      "\n"
     ]
    }
   ],
   "source": [
    "# Select our dependent variable\n",
    "Y_df = df.select(['SALESCLOSEPRICE'])\n",
    "\n",
    "# Display summary statistics\n",
    "Y_df.describe().show()"
   ]
  },
  {
   "cell_type": "markdown",
   "metadata": {},
   "source": [
    "### Verifying Data Load\n",
    "Let's suppose each month you get a new file. You know to expect a certain number of records and columns. In this exercise we will create a function that will validate the file loaded."
   ]
  },
  {
   "cell_type": "code",
   "execution_count": 184,
   "metadata": {
    "ExecuteTime": {
     "end_time": "2021-03-03T10:35:28.490927Z",
     "start_time": "2021-03-03T10:35:27.721341Z"
    }
   },
   "outputs": [
    {
     "name": "stdout",
     "output_type": "stream",
     "text": [
      "Validation Passed\n"
     ]
    }
   ],
   "source": [
    "def check_load(df, num_records, num_columns):\n",
    "    # Takes a dataframe and compares record and column counts to input\n",
    "    # Message to return if the critera below aren't met\n",
    "    message = 'Validation Failed'\n",
    "    # Check number of records\n",
    "    if num_records == df.count():\n",
    "    # Check number of columns\n",
    "        if num_columns == len(df.columns):\n",
    "            # Success message\n",
    "            message = 'Validation Passed'\n",
    "    return message\n",
    "\n",
    "# Print the data validation message\n",
    "print(check_load(df, 5000, 48))"
   ]
  },
  {
   "cell_type": "markdown",
   "metadata": {},
   "source": [
    "### Verifying DataTypes\n",
    "In the age of data we have access to more attributes than we ever had before. To handle all of them we will build a lot of automation but at a minimum requires that their datatypes be correct. In this exercise we will validate a dictionary of attributes and their datatypes to see if they are correct. This dictionary is stored in the variable `validation_dict` and is available in your workspace."
   ]
  },
  {
   "cell_type": "code",
   "execution_count": 190,
   "metadata": {
    "ExecuteTime": {
     "end_time": "2021-03-03T10:40:09.318227Z",
     "start_time": "2021-03-03T10:40:09.315441Z"
    }
   },
   "outputs": [],
   "source": [
    "validation_dict = {'SQFTBELOWGROUND': 'bigint', \n",
    " 'AssumableMortgage': 'string', \n",
    " 'ASSESSMENTPENDING': 'string', \n",
    " 'AssessedValuation': 'double', \n",
    " 'AssociationFee': 'bigint'}"
   ]
  },
  {
   "cell_type": "code",
   "execution_count": 191,
   "metadata": {
    "ExecuteTime": {
     "end_time": "2021-03-03T10:40:09.533036Z",
     "start_time": "2021-03-03T10:40:09.529613Z"
    }
   },
   "outputs": [
    {
     "name": "stdout",
     "output_type": "stream",
     "text": [
      "[('No.', 'bigint'), ('MLSID', 'string'), ('StreetNumberNumeric', 'bigint'), ('streetaddress', 'string'), ('STREETNAME', 'string'), ('PostalCode', 'bigint'), ('StateOrProvince', 'string'), ('City', 'string'), ('SalesClosePrice', 'bigint'), ('LISTDATE', 'string'), ('LISTPRICE', 'bigint'), ('LISTTYPE', 'string'), ('OriginalListPrice', 'bigint'), ('PricePerTSFT', 'double'), ('FOUNDATIONSIZE', 'bigint'), ('MapLetter', 'string'), ('SchoolDistrictNumber', 'string'), ('DAYSONMARKET', 'bigint'), ('offmarketdate', 'string'), ('Fireplaces', 'bigint'), ('roomtype', 'string'), ('PotentialShortSale', 'string'), ('PDOM', 'bigint'), ('GarageDescription', 'string'), ('SQFTABOVEGROUND', 'bigint'), ('Taxes', 'bigint'), ('TAXWITHASSESSMENTS', 'double'), ('TAXYEAR', 'bigint'), ('LivingArea', 'bigint'), ('YEARBUILT', 'bigint'), ('ZONING', 'string'), ('STYLE', 'string'), ('ACRES', 'double'), ('CoolingDescription', 'string'), ('backonmarketdate', 'double'), ('EXTERIOR', 'string'), ('BASEMENT', 'string'), ('BathsFull', 'bigint'), ('BathsHalf', 'bigint'), ('BATHQUARTER', 'bigint'), ('BATHSTHREEQUARTER', 'double'), ('Class', 'string'), ('BATHSTOTAL', 'bigint'), ('Bedrooms', 'bigint'), ('SQFTBELOWGROUND', 'bigint'), ('AssociationFee', 'bigint'), ('ASSESSMENTPENDING', 'string'), ('AssessedValuation', 'double')]\n"
     ]
    }
   ],
   "source": [
    "# create list of actual dtypes to check\n",
    "actual_dtypes_list = df.dtypes\n",
    "print(actual_dtypes_list)"
   ]
  },
  {
   "cell_type": "code",
   "execution_count": 192,
   "metadata": {
    "ExecuteTime": {
     "end_time": "2021-03-03T10:40:09.732168Z",
     "start_time": "2021-03-03T10:40:09.727649Z"
    }
   },
   "outputs": [
    {
     "name": "stdout",
     "output_type": "stream",
     "text": [
      "SQFTBELOWGROUND has expected dtype.\n",
      "AssociationFee has expected dtype.\n",
      "ASSESSMENTPENDING has expected dtype.\n",
      "AssessedValuation has expected dtype.\n"
     ]
    }
   ],
   "source": [
    "# Iterate through the list of actual dtypes tuples\n",
    "for attribute_tuple in actual_dtypes_list:\n",
    "  \n",
    "    # Check if column name is dictionary of expected dtypes\n",
    "    col_name = attribute_tuple[0]\n",
    "    if col_name in validation_dict:\n",
    "\n",
    "        # Compare attribute types\n",
    "        col_type = attribute_tuple[1]\n",
    "        if col_type == validation_dict[col_name]:\n",
    "            print(col_name + ' has expected dtype.')"
   ]
  },
  {
   "cell_type": "markdown",
   "metadata": {},
   "source": [
    "## Visually Inspecting Data / EDA\n"
   ]
  },
  {
   "cell_type": "markdown",
   "metadata": {},
   "source": [
    "#### Getting Descriptive with DataFrame.describe()"
   ]
  },
  {
   "cell_type": "code",
   "execution_count": 198,
   "metadata": {
    "ExecuteTime": {
     "end_time": "2021-03-03T11:29:16.155832Z",
     "start_time": "2021-03-03T11:29:15.339638Z"
    }
   },
   "outputs": [
    {
     "name": "stdout",
     "output_type": "stream",
     "text": [
      "+-------+------------------+\n",
      "|summary|         LISTPRICE|\n",
      "+-------+------------------+\n",
      "|  count|              5000|\n",
      "|   mean|        263419.365|\n",
      "| stddev|143944.10818036893|\n",
      "|    min|             40000|\n",
      "|    max|           1850000|\n",
      "+-------+------------------+\n",
      "\n"
     ]
    }
   ],
   "source": [
    "df.describe(['LISTPRICE']).show()"
   ]
  },
  {
   "cell_type": "markdown",
   "metadata": {},
   "source": [
    "#### Descriptive functions"
   ]
  },
  {
   "cell_type": "markdown",
   "metadata": {},
   "source": [
    "* Mean\n",
    "`pyspark.sql.functions.mean(col)`\n",
    "* Skewness\n",
    "`pyspark.sql.functions.skewness(col)`\n",
    "* Minimum\n",
    "`pyspark.sql.functions.min(col)`\n",
    "* Covariance\n",
    "`cov(col1, col2)`\n",
    "* Correlation\n",
    "`corr(col1, col2)`"
   ]
  },
  {
   "cell_type": "markdown",
   "metadata": {},
   "source": [
    "### Using Corr()\n",
    "The old adage 'Correlation does not imply Causation' is a cautionary tale. However, correlation does give us a good nudge to know where to start looking promising features to use in our models. Use this exercise to get a feel for searching through your data for the first time, trying to find patterns.\n",
    "\n",
    "A list called `columns` containing column names has been created for you. In this exercise you will compute the correlation between those columns and '`SALESCLOSEPRICE'`, and find the maximum."
   ]
  },
  {
   "cell_type": "code",
   "execution_count": 229,
   "metadata": {
    "ExecuteTime": {
     "end_time": "2021-03-03T11:35:40.080749Z",
     "start_time": "2021-03-03T11:35:40.061219Z"
    }
   },
   "outputs": [],
   "source": [
    "new_column_names = [f\"{c.upper()}\" for c in df.columns]\n",
    "df = df.toDF(*new_column_names)"
   ]
  },
  {
   "cell_type": "code",
   "execution_count": 230,
   "metadata": {
    "ExecuteTime": {
     "end_time": "2021-03-03T11:35:59.977391Z",
     "start_time": "2021-03-03T11:35:59.973072Z"
    }
   },
   "outputs": [],
   "source": [
    "columns = [\n",
    "             'FOUNDATIONSIZE',\n",
    "             'DAYSONMARKET',\n",
    "             'FIREPLACES',\n",
    "             'PDOM',\n",
    "             'SQFTABOVEGROUND',\n",
    "             'TAXES',\n",
    "             'TAXWITHASSESSMENTS',\n",
    "             'TAXYEAR',\n",
    "             'LIVINGAREA',\n",
    "             'YEARBUILT',\n",
    "             'ACRES',\n",
    "             'BACKONMARKETDATE',\n",
    "             'BATHSFULL',\n",
    "             'BATHSHALF',\n",
    "             'BATHQUARTER',\n",
    "             'BATHSTHREEQUARTER',\n",
    "             'BATHSTOTAL',\n",
    "             'BEDROOMS',\n",
    "             'SQFTBELOWGROUND',\n",
    "             'ASSOCIATIONFEE',\n",
    "             'ASSESSEDVALUATION'\n",
    "        ]"
   ]
  },
  {
   "cell_type": "code",
   "execution_count": 231,
   "metadata": {
    "ExecuteTime": {
     "end_time": "2021-03-03T11:36:24.635172Z",
     "start_time": "2021-03-03T11:36:06.787022Z"
    }
   },
   "outputs": [
    {
     "name": "stdout",
     "output_type": "stream",
     "text": [
      "LIVINGAREA\n"
     ]
    }
   ],
   "source": [
    "# Name and value of col with max corr\n",
    "corr_max = 0\n",
    "corr_max_col = columns[0]\n",
    "\n",
    "# Loop to check all columns contained in list\n",
    "for col in columns:\n",
    "    # Check the correlation of a pair of columns\n",
    "    corr_val = df.corr(col, 'SALESCLOSEPRICE')\n",
    "    # Logic to compare corr_max with current corr_val\n",
    "    if corr_max < corr_val:\n",
    "        # Update the column name and corr value\n",
    "        corr_max = corr_val\n",
    "        corr_max_col = col\n",
    "\n",
    "print(corr_max_col)"
   ]
  },
  {
   "cell_type": "markdown",
   "metadata": {},
   "source": [
    "#### Using Visualizations: distplot\n",
    "Understanding the distribution of our dependent variable is very important and can impact the type of model or preprocessing we do. A great way to do this is to plot it, however plotting is not a built in function in PySpark, we will need to take some intermediary steps to make sure it works correctly. In this exercise you will visualize the variable the `'LISTPRICE'` variable, and you will gain more insights on its distribution by computing the skewness."
   ]
  },
  {
   "cell_type": "code",
   "execution_count": 232,
   "metadata": {
    "ExecuteTime": {
     "end_time": "2021-03-03T11:40:06.674944Z",
     "start_time": "2021-03-03T11:40:05.854609Z"
    }
   },
   "outputs": [],
   "source": [
    "import matplotlib.pyplot as plt\n",
    "import seaborn as sns"
   ]
  },
  {
   "cell_type": "markdown",
   "metadata": {},
   "source": [
    "* Sample 50% of the dataframe df with `sample()` making sure to not use replacement and setting the random seed to 42.\n",
    "* Convert the Spark DataFrame to a `pandas.DataFrame()` with `toPandas()`.\n",
    "* Plot a distribution plot using seaborn's `distplot()` method.\n",
    "* Import the `skewness()` function from pyspark.sql.functions and compute it on the aggregate of the `'LISTPRICE'` column with the `agg()` method. Remember to `collect()` your result to evaluate the computation."
   ]
  },
  {
   "cell_type": "code",
   "execution_count": 236,
   "metadata": {
    "ExecuteTime": {
     "end_time": "2021-03-03T11:42:19.690192Z",
     "start_time": "2021-03-03T11:42:18.452680Z"
    }
   },
   "outputs": [
    {
     "data": {
      "image/png": "[encoded data removed]",
      "text/plain": [
       "<Figure size 432x288 with 1 Axes>"
      ]
     },
     "metadata": {
      "needs_background": "light"
     },
     "output_type": "display_data"
    },
    {
     "name": "stdout",
     "output_type": "stream",
     "text": [
      "[Row(skewness(LISTPRICE)=2.790448093916568)]\n"
     ]
    }
   ],
   "source": [
    "# Select a single column and sample and convert to pandas\n",
    "sample_df = df.select(['LISTPRICE']).sample(False, 0.5, 42)\n",
    "pandas_df = sample_df.toPandas()\n",
    "\n",
    "# Plot distribution of pandas_df and display plot\n",
    "sns.distplot(pandas_df)\n",
    "plt.show()\n",
    "\n",
    "# Import skewness function\n",
    "from pyspark.sql.functions import skewness\n",
    "\n",
    "# Compute and print skewness of LISTPRICE\n",
    "print(df.agg({'LISTPRICE': 'skewness'}).collect())"
   ]
  },
  {
   "cell_type": "markdown",
   "metadata": {},
   "source": [
    "#### Using Visualizations: lmplot\n",
    "Creating linear model plots helps us visualize if variables have relationships with the dependent variable. If they do they are good candidates to include in our analysis. If they don't it doesn't mean that we should throw them out, it means we may have to process or wrangle them before they can be used."
   ]
  },
  {
   "cell_type": "markdown",
   "metadata": {},
   "source": [
    "* Using the loaded data set df filter it down to the columns `'SALESCLOSEPRICE'` and `'LIVINGAREA'` with `select()`.\n",
    "* Sample 50% of the dataframe with `sample()` making sure to not use replacement and setting the random seed to 42.\n",
    "* Convert the Spark DataFrame to a `pandas.DataFrame()` with `toPandas()`.\n",
    "* Using `'SALESCLOSEPRICE'` as your dependent variable and `'LIVINGAREA'` as your independent, plot a linear model plot using seaborn `lmplot()`."
   ]
  },
  {
   "cell_type": "code",
   "execution_count": 237,
   "metadata": {
    "ExecuteTime": {
     "end_time": "2021-03-03T11:46:35.227547Z",
     "start_time": "2021-03-03T11:46:26.404123Z"
    }
   },
   "outputs": [
    {
     "data": {
      "image/png": "[encoded data removed]",
      "text/plain": [
       "<Figure size 360x360 with 1 Axes>"
      ]
     },
     "metadata": {
      "needs_background": "light"
     },
     "output_type": "display_data"
    }
   ],
   "source": [
    "# Select a the relevant columns and sample\n",
    "sample_df = df.select(['SALESCLOSEPRICE', 'LIVINGAREA']).sample(False, 0.5, 42)\n",
    "\n",
    "# Convert to pandas dataframe\n",
    "pandas_df = sample_df.toPandas()\n",
    "\n",
    "# Linear model plot of pandas_df\n",
    "sns.lmplot(x='LIVINGAREA', y='SALESCLOSEPRICE', data=pandas_df)\n",
    "plt.show()"
   ]
  },
  {
   "cell_type": "markdown",
   "metadata": {},
   "source": [
    "# Wrangling with Spark Functions"
   ]
  },
  {
   "cell_type": "markdown",
   "metadata": {},
   "source": [
    "## Dropping data\n"
   ]
  },
  {
   "cell_type": "markdown",
   "metadata": {},
   "source": [
    "### Dropping a list of columns\n",
    "Our data set is rich with a lot of features, but not all are valuable. We have many that are going to be hard to wrangle into anything useful. For now, let's remove any columns that aren't immediately useful by dropping them.\n",
    "\n",
    "* `'STREETNUMBERNUMERIC'`: The postal address number on the home\n",
    "* `'FIREPLACES'`: Number of Fireplaces in the home\n",
    "* `'LOTSIZEDIMENSIONS'`: Free text describing the lot shape\n",
    "* `'LISTTYPE'`: Set list of values of sale type\n",
    "* `'ACRES'`: Numeric area of lot size"
   ]
  },
  {
   "cell_type": "markdown",
   "metadata": {},
   "source": [
    "Read the list of column descriptions above and explore their top 30 values with `show()`"
   ]
  },
  {
   "cell_type": "code",
   "execution_count": 248,
   "metadata": {
    "ExecuteTime": {
     "end_time": "2021-03-03T20:06:25.808018Z",
     "start_time": "2021-03-03T20:06:25.296805Z"
    }
   },
   "outputs": [
    {
     "name": "stdout",
     "output_type": "stream",
     "text": [
      "+-------------------+----------+---------------+------------------+\n",
      "|STREETNUMBERNUMERIC|FIREPLACES|       LISTTYPE|             ACRES|\n",
      "+-------------------+----------+---------------+------------------+\n",
      "|              11511|         0|Exclusive Right|              1.28|\n",
      "|              11200|         0|Exclusive Right|              0.32|\n",
      "|               8583|         0|Exclusive Right|0.8220000000000001|\n",
      "|               9350|         1|Exclusive Right|              0.94|\n",
      "|               2915|         1|Exclusive Right|               0.0|\n",
      "|               3604|         1|Exclusive Right|             0.172|\n",
      "|               9957|         0|Exclusive Right|              0.05|\n",
      "|               9934|         0|Exclusive Right|              0.05|\n",
      "|               9926|         0|Exclusive Right|              0.05|\n",
      "|               9928|         0|Exclusive Right|              0.05|\n",
      "|               9902|         0|Exclusive Right|              0.05|\n",
      "|               9904|         0|Exclusive Right|              0.05|\n",
      "|               9894|         0|Exclusive Right|              0.05|\n",
      "|               9892|         0|Exclusive Right|              0.05|\n",
      "|               9295|         1|Exclusive Right|             1.661|\n",
      "|               9930|         0|Exclusive Right|              0.05|\n",
      "|               9898|         0|Exclusive Right|              0.05|\n",
      "|               9924|         0|Exclusive Right|              0.05|\n",
      "|               9906|         0|Exclusive Right|              0.05|\n",
      "|               9938|         0|Exclusive Right|              0.05|\n",
      "|               9795|         1|Exclusive Right|              0.04|\n",
      "|               9797|         1|Exclusive Right|              0.04|\n",
      "|               8909|         2|Exclusive Right|              0.43|\n",
      "|               3597|         2|Exclusive Right|             0.574|\n",
      "|               8656|         1|Exclusive Right|             0.498|\n",
      "|               9775|         1|Exclusive Right|              0.04|\n",
      "|               8687|         2|Exclusive Right|              1.03|\n",
      "|               8367|         0|Exclusive Right|             1.995|\n",
      "|               2866|         0|Exclusive Right|              0.72|\n",
      "|               9793|         1|Exclusive Right|              0.06|\n",
      "+-------------------+----------+---------------+------------------+\n",
      "only showing top 30 rows\n",
      "\n"
     ]
    }
   ],
   "source": [
    "# Show top 30 records\n",
    "df.select('STREETNUMBERNUMERIC', 'FIREPLACES', 'LISTTYPE', 'ACRES').show(30)"
   ]
  },
  {
   "cell_type": "markdown",
   "metadata": {},
   "source": [
    "Create a list of columns to drop based on their lack of relevance to predicting house prices called cols_to_drop"
   ]
  },
  {
   "cell_type": "code",
   "execution_count": 250,
   "metadata": {
    "ExecuteTime": {
     "end_time": "2021-03-03T20:07:29.618603Z",
     "start_time": "2021-03-03T20:07:29.616260Z"
    }
   },
   "outputs": [],
   "source": [
    "# List of columns to remove from dataset\n",
    "cols_to_drop = ['STREETNUMBERNUMERIC']"
   ]
  },
  {
   "cell_type": "code",
   "execution_count": 251,
   "metadata": {
    "ExecuteTime": {
     "end_time": "2021-03-03T20:07:30.430567Z",
     "start_time": "2021-03-03T20:07:30.417006Z"
    }
   },
   "outputs": [],
   "source": [
    "# Drop columns in list\n",
    "df = df.drop(*cols_to_drop)"
   ]
  },
  {
   "cell_type": "markdown",
   "metadata": {},
   "source": [
    "### Using text filters to remove records\n",
    "It pays to have to ask your clients lots of questions and take time to understand your variables. You find out that Assumable mortgage is an unusual occurrence in the real estate industry and your client suggests you exclude them. In this exercise we will use `isin()` which is similar to `like()` but allows us to pass a list of values to use as a filter rather than a single one."
   ]
  },
  {
   "cell_type": "markdown",
   "metadata": {},
   "source": [
    "* Use `select()` and `show()` to inspect the distinct values in the column `'ASSUMABLEMORTGAGE'` and create the list yes_values for all the values containing the string 'Yes'."
   ]
  },
  {
   "cell_type": "code",
   "execution_count": null,
   "metadata": {
    "ExecuteTime": {
     "end_time": "2021-03-03T20:15:58.385851Z",
     "start_time": "2021-03-03T20:15:58.336348Z"
    }
   },
   "outputs": [],
   "source": [
    "# Inspect unique values in the column 'ASSUMABLEMORTGAGE'\n",
    "df.select(['ASSUMABLEMORTGAGE']).distinct().show()"
   ]
  },
  {
   "cell_type": "code",
   "execution_count": null,
   "metadata": {},
   "outputs": [],
   "source": [
    "# List of possible values containing 'yes'\n",
    "yes_values = ['Yes w/ Qualifying', 'Yes w/No Qualifying']"
   ]
  },
  {
   "cell_type": "code",
   "execution_count": null,
   "metadata": {},
   "outputs": [],
   "source": [
    "# Filter the text values out of df but keep null values\n",
    "text_filter = ~df['ASSUMABLEMORTGAGE'].isin(yes_values) | df['ASSUMABLEMORTGAGE'].isNull()\n",
    "df = df.where(text_filter)"
   ]
  },
  {
   "cell_type": "code",
   "execution_count": null,
   "metadata": {},
   "outputs": [],
   "source": [
    "# Print count of remaining records\n",
    "print(df.count())"
   ]
  },
  {
   "cell_type": "markdown",
   "metadata": {},
   "source": [
    "### Filtering numeric fields conditionally\n",
    "Again, understanding the context of your data is extremely important. We want to understand what a normal range of houses sell for. Let's make sure we exclude any outlier homes that have sold for significantly more or less than the average. Here we will calculate the mean and standard deviation and use them to filer the near normal field `log_SalesClosePrice`."
   ]
  },
  {
   "cell_type": "code",
   "execution_count": 254,
   "metadata": {
    "ExecuteTime": {
     "end_time": "2021-03-03T20:25:58.769088Z",
     "start_time": "2021-03-03T20:25:50.815869Z"
    }
   },
   "outputs": [
    {
     "name": "stdout",
     "output_type": "stream",
     "text": [
      "+---------------+\n",
      "|SALESCLOSEPRICE|\n",
      "+---------------+\n",
      "|         143000|\n",
      "|         190000|\n",
      "|         225000|\n",
      "|         265000|\n",
      "|         249900|\n",
      "|         255000|\n",
      "|         248000|\n",
      "|         245000|\n",
      "|         254990|\n",
      "|         250000|\n",
      "|         254500|\n",
      "|         253000|\n",
      "|         257500|\n",
      "|         272990|\n",
      "|         290000|\n",
      "|         274000|\n",
      "|         274990|\n",
      "|         274000|\n",
      "|         282000|\n",
      "|         280617|\n",
      "+---------------+\n",
      "only showing top 20 rows\n",
      "\n"
     ]
    }
   ],
   "source": [
    "df.select('SALESCLOSEPRICE').show()"
   ]
  },
  {
   "cell_type": "code",
   "execution_count": 258,
   "metadata": {
    "ExecuteTime": {
     "end_time": "2021-03-03T20:28:29.312327Z",
     "start_time": "2021-03-03T20:28:29.296876Z"
    }
   },
   "outputs": [],
   "source": [
    "from pyspark.sql.functions import log\n",
    "df = df.withColumn('LOG_SALESCLOSEPRICE', log('SALESCLOSEPRICE'))"
   ]
  },
  {
   "cell_type": "code",
   "execution_count": 260,
   "metadata": {
    "ExecuteTime": {
     "end_time": "2021-03-03T20:28:55.159842Z",
     "start_time": "2021-03-03T20:28:54.495522Z"
    }
   },
   "outputs": [
    {
     "name": "stdout",
     "output_type": "stream",
     "text": [
      "+-------------------+\n",
      "|LOG_SALESCLOSEPRICE|\n",
      "+-------------------+\n",
      "| 11.870599909242044|\n",
      "| 12.154779351142624|\n",
      "| 12.323855681186558|\n",
      "| 12.487485104968359|\n",
      "| 12.428816116823043|\n",
      "| 12.449018824140563|\n",
      "| 12.421184025147118|\n",
      "| 12.409013489526863|\n",
      "| 12.448979607685333|\n",
      "| 12.429216196844383|\n",
      "| 12.447056114972714|\n",
      "| 12.441144767709657|\n",
      "| 12.458774999085929|\n",
      "|  12.51719044345957|\n",
      "| 12.577636201962656|\n",
      "| 12.520883385370206|\n",
      "|  12.52449001235117|\n",
      "| 12.520883385370206|\n",
      "|  12.54966234992025|\n",
      "| 12.544746029277201|\n",
      "+-------------------+\n",
      "only showing top 20 rows\n",
      "\n"
     ]
    }
   ],
   "source": [
    "df.select('LOG_SALESCLOSEPRICE').show()"
   ]
  },
  {
   "cell_type": "code",
   "execution_count": 259,
   "metadata": {
    "ExecuteTime": {
     "end_time": "2021-03-03T20:28:39.669741Z",
     "start_time": "2021-03-03T20:28:30.011427Z"
    }
   },
   "outputs": [],
   "source": [
    "from pyspark.sql.functions import mean, stddev\n",
    "\n",
    "# Calculate values used for outlier filtering\n",
    "mean_val = df.agg({'LOG_SALESCLOSEPRICE': 'mean'}).collect()[0][0]\n",
    "stddev_val = df.agg({'LOG_SALESCLOSEPRICE': 'stddev'}).collect()[0][0]\n",
    "\n",
    "# Create three standard deviation (μ ± 3σ) lower and upper bounds for data\n",
    "low_bound = mean_val - (3 * stddev_val)\n",
    "hi_bound = mean_val + (3 * stddev_val)\n",
    "\n",
    "# Filter the data to fit between the lower and upper bounds\n",
    "df = df.where((df['LOG_SALESCLOSEPRICE'] < hi_bound) & (df['LOG_SALESCLOSEPRICE'] > low_bound))"
   ]
  },
  {
   "cell_type": "code",
   "execution_count": null,
   "metadata": {},
   "outputs": [],
   "source": []
  }
 ],
 "metadata": {
  "kernelspec": {
   "display_name": "Python 3",
   "language": "python",
   "name": "python3"
  },
  "language_info": {
   "codemirror_mode": {
    "name": "ipython",
    "version": 3
   },
   "file_extension": ".py",
   "mimetype": "text/x-python",
   "name": "python",
   "nbconvert_exporter": "python",
   "pygments_lexer": "ipython3",
   "version": "3.7.6"
  },
  "toc": {
   "base_numbering": 1,
   "nav_menu": {},
   "number_sections": false,
   "sideBar": true,
   "skip_h1_title": false,
   "title_cell": "Table of Contents",
   "title_sidebar": "Contents",
   "toc_cell": false,
   "toc_position": {},
   "toc_section_display": true,
   "toc_window_display": false
  }
 },
 "nbformat": 4,
 "nbformat_minor": 4
}
