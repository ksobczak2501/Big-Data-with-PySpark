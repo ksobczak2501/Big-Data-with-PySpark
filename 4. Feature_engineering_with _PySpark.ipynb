{
 "cells": [
  {
   "cell_type": "markdown",
   "metadata": {},
   "source": [
    "# Exploratory Data Analysis"
   ]
  },
  {
   "cell_type": "markdown",
   "metadata": {},
   "source": [
    "## Check Version\n",
    "Checking the version of which Spark and Python installed is important as it changes very quickly and drastically. Reading the wrong documentation can cause lots of lost time and unnecessary frustration!"
   ]
  },
  {
   "cell_type": "code",
   "execution_count": null,
   "metadata": {
    "ExecuteTime": {
     "end_time": "2021-03-10T19:48:17.381623Z",
     "start_time": "2021-03-10T19:48:11.252003Z"
    }
   },
   "outputs": [],
   "source": [
    "from pyspark.sql import SparkSession\n",
    "spark = SparkSession.builder.getOrCreate()"
   ]
  },
  {
   "cell_type": "code",
   "execution_count": null,
   "metadata": {
    "ExecuteTime": {
     "end_time": "2021-03-10T19:48:17.446257Z",
     "start_time": "2021-03-10T19:48:17.384135Z"
    }
   },
   "outputs": [],
   "source": [
    "# Return spark version\n",
    "print(spark.version)\n",
    "\n",
    "# Return python version\n",
    "import sys\n",
    "print(sys.version_info)"
   ]
  },
  {
   "cell_type": "markdown",
   "metadata": {},
   "source": [
    "## Load in the data\n",
    "Reading in data is the first step to using PySpark for data science! Let's leverage the new industry standard of parquet files!"
   ]
  },
  {
   "cell_type": "code",
   "execution_count": null,
   "metadata": {
    "ExecuteTime": {
     "end_time": "2021-03-10T19:48:18.122526Z",
     "start_time": "2021-03-10T19:48:17.448818Z"
    }
   },
   "outputs": [],
   "source": [
    "import pandas as pd\n",
    "# Read the file into a dataframe\n",
    "df = pd.read_csv('2017_StPaul_MN_Real_Estate.csv')\n",
    "# df = spark.createDataFrame(df)\n",
    "# Print columns in dataframe\n",
    "print(df.columns)"
   ]
  },
  {
   "cell_type": "code",
   "execution_count": null,
   "metadata": {
    "ExecuteTime": {
     "end_time": "2021-03-10T19:48:18.145478Z",
     "start_time": "2021-03-10T19:48:18.124788Z"
    }
   },
   "outputs": [],
   "source": [
    "df = df[['No.', 'MLSID', 'StreetNumberNumeric', 'streetaddress', 'STREETNAME',\n",
    "        'PostalCode', 'StateOrProvince', 'City', 'SalesClosePrice', 'LISTDATE',\n",
    "        'LISTPRICE', 'LISTTYPE', 'OriginalListPrice', 'PricePerTSFT',\n",
    "        'FOUNDATIONSIZE', 'MapLetter',\n",
    "        'SchoolDistrictNumber', 'DAYSONMARKET', 'offmarketdate', 'Fireplaces',\n",
    "        'roomtype', 'PotentialShortSale',\n",
    "        'PDOM', 'GarageDescription', 'SQFTABOVEGROUND',\n",
    "         'Taxes', 'TAXWITHASSESSMENTS', 'TAXYEAR',\n",
    "        'LivingArea', 'YEARBUILT', 'ZONING', 'STYLE', 'ACRES',\n",
    "        'CoolingDescription', 'backonmarketdate',\n",
    "         'EXTERIOR',\n",
    "         'BASEMENT', 'BathsFull',\n",
    "         'BathsHalf', 'BATHQUARTER', 'BATHSTHREEQUARTER', 'Class', 'BATHSTOTAL',\n",
    "         'Bedrooms',\n",
    "       'SQFTBELOWGROUND', 'AssociationFee',\n",
    "       'ASSESSMENTPENDING', 'AssessedValuation'\n",
    "        ]]"
   ]
  },
  {
   "cell_type": "code",
   "execution_count": null,
   "metadata": {
    "ExecuteTime": {
     "end_time": "2021-03-10T19:48:22.995577Z",
     "start_time": "2021-03-10T19:48:18.148152Z"
    }
   },
   "outputs": [],
   "source": [
    "df = spark.createDataFrame(df)"
   ]
  },
  {
   "cell_type": "markdown",
   "metadata": {},
   "source": [
    "### What are we predicting?\n",
    "Which of these fields (or columns) is the value we are trying to predict for?\n",
    "\n",
    "* `TAXES`\n",
    "* `SALESCLOSEPRICE`\n",
    "* `DAYSONMARKET`\n",
    "* `LISTPRICE`"
   ]
  },
  {
   "cell_type": "code",
   "execution_count": null,
   "metadata": {
    "ExecuteTime": {
     "end_time": "2021-03-10T19:48:28.675596Z",
     "start_time": "2021-03-10T19:48:22.997276Z"
    }
   },
   "outputs": [],
   "source": [
    "# Select our dependent variable\n",
    "Y_df = df.select(['SALESCLOSEPRICE'])\n",
    "\n",
    "# Display summary statistics\n",
    "Y_df.describe().show()"
   ]
  },
  {
   "cell_type": "markdown",
   "metadata": {},
   "source": [
    "### Verifying Data Load\n",
    "Let's suppose each month you get a new file. You know to expect a certain number of records and columns. In this exercise we will create a function that will validate the file loaded."
   ]
  },
  {
   "cell_type": "code",
   "execution_count": 7,
   "metadata": {
    "ExecuteTime": {
     "end_time": "2021-03-10T19:48:29.966128Z",
     "start_time": "2021-03-10T19:48:28.679721Z"
    }
   },
   "outputs": [
    {
     "name": "stdout",
     "output_type": "stream",
     "text": [
      "Validation Passed\n"
     ]
    }
   ],
   "source": [
    "def check_load(df, num_records, num_columns):\n",
    "    # Takes a dataframe and compares record and column counts to input\n",
    "    # Message to return if the critera below aren't met\n",
    "    message = 'Validation Failed'\n",
    "    # Check number of records\n",
    "    if num_records == df.count():\n",
    "    # Check number of columns\n",
    "        if num_columns == len(df.columns):\n",
    "            # Success message\n",
    "            message = 'Validation Passed'\n",
    "    return message\n",
    "\n",
    "# Print the data validation message\n",
    "print(check_load(df, 5000, 48))"
   ]
  },
  {
   "cell_type": "markdown",
   "metadata": {},
   "source": [
    "### Verifying DataTypes\n",
    "In the age of data we have access to more attributes than we ever had before. To handle all of them we will build a lot of automation but at a minimum requires that their datatypes be correct. In this exercise we will validate a dictionary of attributes and their datatypes to see if they are correct. This dictionary is stored in the variable `validation_dict` and is available in your workspace."
   ]
  },
  {
   "cell_type": "code",
   "execution_count": 8,
   "metadata": {
    "ExecuteTime": {
     "end_time": "2021-03-10T19:48:29.972841Z",
     "start_time": "2021-03-10T19:48:29.969319Z"
    }
   },
   "outputs": [],
   "source": [
    "validation_dict = {'SQFTBELOWGROUND': 'bigint', \n",
    " 'AssumableMortgage': 'string', \n",
    " 'ASSESSMENTPENDING': 'string', \n",
    " 'AssessedValuation': 'double', \n",
    " 'AssociationFee': 'bigint'}"
   ]
  },
  {
   "cell_type": "code",
   "execution_count": 9,
   "metadata": {
    "ExecuteTime": {
     "end_time": "2021-03-10T19:48:30.046785Z",
     "start_time": "2021-03-10T19:48:29.975410Z"
    }
   },
   "outputs": [
    {
     "name": "stdout",
     "output_type": "stream",
     "text": [
      "[('No.', 'bigint'), ('MLSID', 'string'), ('StreetNumberNumeric', 'bigint'), ('streetaddress', 'string'), ('STREETNAME', 'string'), ('PostalCode', 'bigint'), ('StateOrProvince', 'string'), ('City', 'string'), ('SalesClosePrice', 'bigint'), ('LISTDATE', 'string'), ('LISTPRICE', 'bigint'), ('LISTTYPE', 'string'), ('OriginalListPrice', 'bigint'), ('PricePerTSFT', 'double'), ('FOUNDATIONSIZE', 'bigint'), ('MapLetter', 'string'), ('SchoolDistrictNumber', 'string'), ('DAYSONMARKET', 'bigint'), ('offmarketdate', 'string'), ('Fireplaces', 'bigint'), ('roomtype', 'string'), ('PotentialShortSale', 'string'), ('PDOM', 'bigint'), ('GarageDescription', 'string'), ('SQFTABOVEGROUND', 'bigint'), ('Taxes', 'bigint'), ('TAXWITHASSESSMENTS', 'double'), ('TAXYEAR', 'bigint'), ('LivingArea', 'bigint'), ('YEARBUILT', 'bigint'), ('ZONING', 'string'), ('STYLE', 'string'), ('ACRES', 'double'), ('CoolingDescription', 'string'), ('backonmarketdate', 'double'), ('EXTERIOR', 'string'), ('BASEMENT', 'string'), ('BathsFull', 'bigint'), ('BathsHalf', 'bigint'), ('BATHQUARTER', 'bigint'), ('BATHSTHREEQUARTER', 'double'), ('Class', 'string'), ('BATHSTOTAL', 'bigint'), ('Bedrooms', 'bigint'), ('SQFTBELOWGROUND', 'bigint'), ('AssociationFee', 'bigint'), ('ASSESSMENTPENDING', 'string'), ('AssessedValuation', 'double')]\n"
     ]
    }
   ],
   "source": [
    "# create list of actual dtypes to check\n",
    "actual_dtypes_list = df.dtypes\n",
    "print(actual_dtypes_list)"
   ]
  },
  {
   "cell_type": "code",
   "execution_count": 10,
   "metadata": {
    "ExecuteTime": {
     "end_time": "2021-03-10T19:48:30.055576Z",
     "start_time": "2021-03-10T19:48:30.049075Z"
    }
   },
   "outputs": [
    {
     "name": "stdout",
     "output_type": "stream",
     "text": [
      "SQFTBELOWGROUND has expected dtype.\n",
      "AssociationFee has expected dtype.\n",
      "ASSESSMENTPENDING has expected dtype.\n",
      "AssessedValuation has expected dtype.\n"
     ]
    }
   ],
   "source": [
    "# Iterate through the list of actual dtypes tuples\n",
    "for attribute_tuple in actual_dtypes_list:\n",
    "  \n",
    "    # Check if column name is dictionary of expected dtypes\n",
    "    col_name = attribute_tuple[0]\n",
    "    if col_name in validation_dict:\n",
    "\n",
    "        # Compare attribute types\n",
    "        col_type = attribute_tuple[1]\n",
    "        if col_type == validation_dict[col_name]:\n",
    "            print(col_name + ' has expected dtype.')"
   ]
  },
  {
   "cell_type": "markdown",
   "metadata": {},
   "source": [
    "## Visually Inspecting Data / EDA\n"
   ]
  },
  {
   "cell_type": "markdown",
   "metadata": {},
   "source": [
    "#### Getting Descriptive with DataFrame.describe()"
   ]
  },
  {
   "cell_type": "code",
   "execution_count": 11,
   "metadata": {
    "ExecuteTime": {
     "end_time": "2021-03-10T19:48:31.669508Z",
     "start_time": "2021-03-10T19:48:30.057385Z"
    }
   },
   "outputs": [
    {
     "name": "stdout",
     "output_type": "stream",
     "text": [
      "+-------+------------------+\n",
      "|summary|         LISTPRICE|\n",
      "+-------+------------------+\n",
      "|  count|              5000|\n",
      "|   mean|        263419.365|\n",
      "| stddev|143944.10818036905|\n",
      "|    min|             40000|\n",
      "|    max|           1850000|\n",
      "+-------+------------------+\n",
      "\n"
     ]
    }
   ],
   "source": [
    "df.describe(['LISTPRICE']).show()"
   ]
  },
  {
   "cell_type": "markdown",
   "metadata": {},
   "source": [
    "#### Descriptive functions"
   ]
  },
  {
   "cell_type": "markdown",
   "metadata": {},
   "source": [
    "* Mean\n",
    "`pyspark.sql.functions.mean(col)`\n",
    "* Skewness\n",
    "`pyspark.sql.functions.skewness(col)`\n",
    "* Minimum\n",
    "`pyspark.sql.functions.min(col)`\n",
    "* Covariance\n",
    "`cov(col1, col2)`\n",
    "* Correlation\n",
    "`corr(col1, col2)`"
   ]
  },
  {
   "cell_type": "markdown",
   "metadata": {},
   "source": [
    "### Using Corr()\n",
    "The old adage 'Correlation does not imply Causation' is a cautionary tale. However, correlation does give us a good nudge to know where to start looking promising features to use in our models. Use this exercise to get a feel for searching through your data for the first time, trying to find patterns.\n",
    "\n",
    "A list called `columns` containing column names has been created for you. In this exercise you will compute the correlation between those columns and '`SALESCLOSEPRICE'`, and find the maximum."
   ]
  },
  {
   "cell_type": "code",
   "execution_count": 12,
   "metadata": {
    "ExecuteTime": {
     "end_time": "2021-03-10T19:48:31.757689Z",
     "start_time": "2021-03-10T19:48:31.672856Z"
    }
   },
   "outputs": [],
   "source": [
    "new_column_names = [f\"{c.upper()}\" for c in df.columns]\n",
    "df = df.toDF(*new_column_names)"
   ]
  },
  {
   "cell_type": "code",
   "execution_count": 13,
   "metadata": {
    "ExecuteTime": {
     "end_time": "2021-03-10T19:48:31.764686Z",
     "start_time": "2021-03-10T19:48:31.759816Z"
    }
   },
   "outputs": [],
   "source": [
    "columns = [\n",
    "             'FOUNDATIONSIZE',\n",
    "             'DAYSONMARKET',\n",
    "             'FIREPLACES',\n",
    "             'PDOM',\n",
    "             'SQFTABOVEGROUND',\n",
    "             'TAXES',\n",
    "             'TAXWITHASSESSMENTS',\n",
    "             'TAXYEAR',\n",
    "             'LIVINGAREA',\n",
    "             'YEARBUILT',\n",
    "             'ACRES',\n",
    "             'BACKONMARKETDATE',\n",
    "             'BATHSFULL',\n",
    "             'BATHSHALF',\n",
    "             'BATHQUARTER',\n",
    "             'BATHSTHREEQUARTER',\n",
    "             'BATHSTOTAL',\n",
    "             'BEDROOMS',\n",
    "             'SQFTBELOWGROUND',\n",
    "             'ASSOCIATIONFEE',\n",
    "             'ASSESSEDVALUATION'\n",
    "        ]"
   ]
  },
  {
   "cell_type": "code",
   "execution_count": 14,
   "metadata": {
    "ExecuteTime": {
     "end_time": "2021-03-10T19:48:46.363753Z",
     "start_time": "2021-03-10T19:48:31.766578Z"
    }
   },
   "outputs": [
    {
     "name": "stdout",
     "output_type": "stream",
     "text": [
      "LIVINGAREA\n"
     ]
    }
   ],
   "source": [
    "# Name and value of col with max corr\n",
    "corr_max = 0\n",
    "corr_max_col = columns[0]\n",
    "\n",
    "# Loop to check all columns contained in list\n",
    "for col in columns:\n",
    "    # Check the correlation of a pair of columns\n",
    "    corr_val = df.corr(col, 'SALESCLOSEPRICE')\n",
    "    # Logic to compare corr_max with current corr_val\n",
    "    if corr_max < corr_val:\n",
    "        # Update the column name and corr value\n",
    "        corr_max = corr_val\n",
    "        corr_max_col = col\n",
    "\n",
    "print(corr_max_col)"
   ]
  },
  {
   "cell_type": "markdown",
   "metadata": {},
   "source": [
    "#### Using Visualizations: distplot\n",
    "Understanding the distribution of our dependent variable is very important and can impact the type of model or preprocessing we do. A great way to do this is to plot it, however plotting is not a built in function in PySpark, we will need to take some intermediary steps to make sure it works correctly. In this exercise you will visualize the variable the `'LISTPRICE'` variable, and you will gain more insights on its distribution by computing the skewness."
   ]
  },
  {
   "cell_type": "code",
   "execution_count": 15,
   "metadata": {
    "ExecuteTime": {
     "end_time": "2021-03-10T19:48:46.651139Z",
     "start_time": "2021-03-10T19:48:46.366236Z"
    }
   },
   "outputs": [],
   "source": [
    "import matplotlib.pyplot as plt\n",
    "import seaborn as sns"
   ]
  },
  {
   "cell_type": "code",
   "execution_count": 16,
   "metadata": {
    "ExecuteTime": {
     "end_time": "2021-03-10T19:48:46.655535Z",
     "start_time": "2021-03-10T19:48:46.653028Z"
    }
   },
   "outputs": [],
   "source": [
    "import warnings\n",
    "warnings.simplefilter(action='ignore', category=FutureWarning)"
   ]
  },
  {
   "cell_type": "markdown",
   "metadata": {},
   "source": [
    "* Sample 50% of the dataframe df with `sample()` making sure to not use replacement and setting the random seed to 42.\n",
    "* Convert the Spark DataFrame to a `pandas.DataFrame()` with `toPandas()`.\n",
    "* Plot a distribution plot using seaborn's `distplot()` method.\n",
    "* Import the `skewness()` function from pyspark.sql.functions and compute it on the aggregate of the `'LISTPRICE'` column with the `agg()` method. Remember to `collect()` your result to evaluate the computation."
   ]
  },
  {
   "cell_type": "code",
   "execution_count": 17,
   "metadata": {
    "ExecuteTime": {
     "end_time": "2021-03-10T19:48:48.668663Z",
     "start_time": "2021-03-10T19:48:46.657078Z"
    }
   },
   "outputs": [
    {
     "data": {
      "image/png": "[encoded data removed]",
      "text/plain": [
       "<Figure size 432x288 with 1 Axes>"
      ]
     },
     "metadata": {
      "needs_background": "light"
     },
     "output_type": "display_data"
    },
    {
     "name": "stdout",
     "output_type": "stream",
     "text": [
      "[Row(skewness(LISTPRICE)=2.790448093916559)]\n"
     ]
    }
   ],
   "source": [
    "# Select a single column and sample and convert to pandas\n",
    "sample_df = df.select(['LISTPRICE']).sample(False, 0.5, 42)\n",
    "pandas_df = sample_df.toPandas()\n",
    "\n",
    "# Plot distribution of pandas_df and display plot\n",
    "sns.distplot(pandas_df)\n",
    "plt.show()\n",
    "\n",
    "# Import skewness function\n",
    "from pyspark.sql.functions import skewness\n",
    "\n",
    "# Compute and print skewness of LISTPRICE\n",
    "print(df.agg({'LISTPRICE': 'skewness'}).collect())"
   ]
  },
  {
   "cell_type": "markdown",
   "metadata": {},
   "source": [
    "#### Using Visualizations: lmplot\n",
    "Creating linear model plots helps us visualize if variables have relationships with the dependent variable. If they do they are good candidates to include in our analysis. If they don't it doesn't mean that we should throw them out, it means we may have to process or wrangle them before they can be used."
   ]
  },
  {
   "cell_type": "markdown",
   "metadata": {},
   "source": [
    "* Using the loaded data set df filter it down to the columns `'SALESCLOSEPRICE'` and `'LIVINGAREA'` with `select()`.\n",
    "* Sample 50% of the dataframe with `sample()` making sure to not use replacement and setting the random seed to 42.\n",
    "* Convert the Spark DataFrame to a `pandas.DataFrame()` with `toPandas()`.\n",
    "* Using `'SALESCLOSEPRICE'` as your dependent variable and `'LIVINGAREA'` as your independent, plot a linear model plot using seaborn `lmplot()`."
   ]
  },
  {
   "cell_type": "code",
   "execution_count": 18,
   "metadata": {
    "ExecuteTime": {
     "end_time": "2021-03-10T19:48:50.255404Z",
     "start_time": "2021-03-10T19:48:48.670576Z"
    }
   },
   "outputs": [
    {
     "data": {
      "image/png": "[encoded data removed]",
      "text/plain": [
       "<Figure size 360x360 with 1 Axes>"
      ]
     },
     "metadata": {
      "needs_background": "light"
     },
     "output_type": "display_data"
    }
   ],
   "source": [
    "# Select a the relevant columns and sample\n",
    "sample_df = df.select(['SALESCLOSEPRICE', 'LIVINGAREA']).sample(False, 0.5, 42)\n",
    "\n",
    "# Convert to pandas dataframe\n",
    "pandas_df = sample_df.toPandas()\n",
    "\n",
    "# Linear model plot of pandas_df\n",
    "sns.lmplot(x='LIVINGAREA', y='SALESCLOSEPRICE', data=pandas_df)\n",
    "plt.show()"
   ]
  },
  {
   "cell_type": "markdown",
   "metadata": {},
   "source": [
    "# Wrangling with Spark Functions"
   ]
  },
  {
   "cell_type": "markdown",
   "metadata": {},
   "source": [
    "## Dropping data\n"
   ]
  },
  {
   "cell_type": "markdown",
   "metadata": {},
   "source": [
    "### Dropping a list of columns\n",
    "Our data set is rich with a lot of features, but not all are valuable. We have many that are going to be hard to wrangle into anything useful. For now, let's remove any columns that aren't immediately useful by dropping them.\n",
    "\n",
    "* `'STREETNUMBERNUMERIC'`: The postal address number on the home\n",
    "* `'FIREPLACES'`: Number of Fireplaces in the home\n",
    "* `'LOTSIZEDIMENSIONS'`: Free text describing the lot shape\n",
    "* `'LISTTYPE'`: Set list of values of sale type\n",
    "* `'ACRES'`: Numeric area of lot size"
   ]
  },
  {
   "cell_type": "markdown",
   "metadata": {},
   "source": [
    "Read the list of column descriptions above and explore their top 30 values with `show()`"
   ]
  },
  {
   "cell_type": "code",
   "execution_count": 19,
   "metadata": {
    "ExecuteTime": {
     "end_time": "2021-03-10T19:48:50.948735Z",
     "start_time": "2021-03-10T19:48:50.257276Z"
    }
   },
   "outputs": [
    {
     "name": "stdout",
     "output_type": "stream",
     "text": [
      "+-------------------+----------+---------------+------------------+\n",
      "|STREETNUMBERNUMERIC|FIREPLACES|       LISTTYPE|             ACRES|\n",
      "+-------------------+----------+---------------+------------------+\n",
      "|              11511|         0|Exclusive Right|              1.28|\n",
      "|              11200|         0|Exclusive Right|              0.32|\n",
      "|               8583|         0|Exclusive Right|0.8220000000000001|\n",
      "|               9350|         1|Exclusive Right|              0.94|\n",
      "|               2915|         1|Exclusive Right|               0.0|\n",
      "|               3604|         1|Exclusive Right|             0.172|\n",
      "|               9957|         0|Exclusive Right|              0.05|\n",
      "|               9934|         0|Exclusive Right|              0.05|\n",
      "|               9926|         0|Exclusive Right|              0.05|\n",
      "|               9928|         0|Exclusive Right|              0.05|\n",
      "|               9902|         0|Exclusive Right|              0.05|\n",
      "|               9904|         0|Exclusive Right|              0.05|\n",
      "|               9894|         0|Exclusive Right|              0.05|\n",
      "|               9892|         0|Exclusive Right|              0.05|\n",
      "|               9295|         1|Exclusive Right|             1.661|\n",
      "|               9930|         0|Exclusive Right|              0.05|\n",
      "|               9898|         0|Exclusive Right|              0.05|\n",
      "|               9924|         0|Exclusive Right|              0.05|\n",
      "|               9906|         0|Exclusive Right|              0.05|\n",
      "|               9938|         0|Exclusive Right|              0.05|\n",
      "|               9795|         1|Exclusive Right|              0.04|\n",
      "|               9797|         1|Exclusive Right|              0.04|\n",
      "|               8909|         2|Exclusive Right|              0.43|\n",
      "|               3597|         2|Exclusive Right|             0.574|\n",
      "|               8656|         1|Exclusive Right|             0.498|\n",
      "|               9775|         1|Exclusive Right|              0.04|\n",
      "|               8687|         2|Exclusive Right|              1.03|\n",
      "|               8367|         0|Exclusive Right|             1.995|\n",
      "|               2866|         0|Exclusive Right|              0.72|\n",
      "|               9793|         1|Exclusive Right|              0.06|\n",
      "+-------------------+----------+---------------+------------------+\n",
      "only showing top 30 rows\n",
      "\n"
     ]
    }
   ],
   "source": [
    "# Show top 30 records\n",
    "df.select('STREETNUMBERNUMERIC', 'FIREPLACES', 'LISTTYPE', 'ACRES').show(30)"
   ]
  },
  {
   "cell_type": "markdown",
   "metadata": {},
   "source": [
    "Create a list of columns to drop based on their lack of relevance to predicting house prices called cols_to_drop"
   ]
  },
  {
   "cell_type": "code",
   "execution_count": 20,
   "metadata": {
    "ExecuteTime": {
     "end_time": "2021-03-10T19:48:50.960510Z",
     "start_time": "2021-03-10T19:48:50.950715Z"
    }
   },
   "outputs": [],
   "source": [
    "# List of columns to remove from dataset\n",
    "cols_to_drop = ['STREETNUMBERNUMERIC']"
   ]
  },
  {
   "cell_type": "code",
   "execution_count": 21,
   "metadata": {
    "ExecuteTime": {
     "end_time": "2021-03-10T19:48:50.975480Z",
     "start_time": "2021-03-10T19:48:50.962843Z"
    }
   },
   "outputs": [],
   "source": [
    "# Drop columns in list\n",
    "df = df.drop(*cols_to_drop)"
   ]
  },
  {
   "cell_type": "markdown",
   "metadata": {},
   "source": [
    "### Using text filters to remove records\n",
    "It pays to have to ask your clients lots of questions and take time to understand your variables. You find out that Assumable mortgage is an unusual occurrence in the real estate industry and your client suggests you exclude them. In this exercise we will use `isin()` which is similar to `like()` but allows us to pass a list of values to use as a filter rather than a single one."
   ]
  },
  {
   "cell_type": "markdown",
   "metadata": {},
   "source": [
    "* Use `select()` and `show()` to inspect the distinct values in the column `'ASSUMABLEMORTGAGE'` and create the list yes_values for all the values containing the string 'Yes'."
   ]
  },
  {
   "cell_type": "code",
   "execution_count": null,
   "metadata": {
    "ExecuteTime": {
     "end_time": "2021-03-03T20:15:58.385851Z",
     "start_time": "2021-03-03T20:15:58.336348Z"
    }
   },
   "outputs": [],
   "source": [
    "# Inspect unique values in the column 'ASSUMABLEMORTGAGE'\n",
    "df.select(['ASSUMABLEMORTGAGE']).distinct().show()"
   ]
  },
  {
   "cell_type": "code",
   "execution_count": null,
   "metadata": {},
   "outputs": [],
   "source": [
    "# List of possible values containing 'yes'\n",
    "yes_values = ['Yes w/ Qualifying', 'Yes w/No Qualifying']"
   ]
  },
  {
   "cell_type": "code",
   "execution_count": null,
   "metadata": {},
   "outputs": [],
   "source": [
    "# Filter the text values out of df but keep null values\n",
    "text_filter = ~df['ASSUMABLEMORTGAGE'].isin(yes_values) | df['ASSUMABLEMORTGAGE'].isNull()\n",
    "df = df.where(text_filter)"
   ]
  },
  {
   "cell_type": "code",
   "execution_count": null,
   "metadata": {},
   "outputs": [],
   "source": [
    "# Print count of remaining records\n",
    "print(df.count())"
   ]
  },
  {
   "cell_type": "markdown",
   "metadata": {},
   "source": [
    "### Filtering numeric fields conditionally\n",
    "Again, understanding the context of your data is extremely important. We want to understand what a normal range of houses sell for. Let's make sure we exclude any outlier homes that have sold for significantly more or less than the average. Here we will calculate the mean and standard deviation and use them to filer the near normal field `log_SalesClosePrice`."
   ]
  },
  {
   "cell_type": "code",
   "execution_count": 22,
   "metadata": {
    "ExecuteTime": {
     "end_time": "2021-03-10T19:48:51.663296Z",
     "start_time": "2021-03-10T19:48:50.978162Z"
    }
   },
   "outputs": [
    {
     "name": "stdout",
     "output_type": "stream",
     "text": [
      "+---------------+\n",
      "|SALESCLOSEPRICE|\n",
      "+---------------+\n",
      "|         143000|\n",
      "|         190000|\n",
      "|         225000|\n",
      "|         265000|\n",
      "|         249900|\n",
      "|         255000|\n",
      "|         248000|\n",
      "|         245000|\n",
      "|         254990|\n",
      "|         250000|\n",
      "|         254500|\n",
      "|         253000|\n",
      "|         257500|\n",
      "|         272990|\n",
      "|         290000|\n",
      "|         274000|\n",
      "|         274990|\n",
      "|         274000|\n",
      "|         282000|\n",
      "|         280617|\n",
      "+---------------+\n",
      "only showing top 20 rows\n",
      "\n"
     ]
    }
   ],
   "source": [
    "df.select('SALESCLOSEPRICE').show()"
   ]
  },
  {
   "cell_type": "code",
   "execution_count": 23,
   "metadata": {
    "ExecuteTime": {
     "end_time": "2021-03-10T19:48:51.754275Z",
     "start_time": "2021-03-10T19:48:51.665225Z"
    }
   },
   "outputs": [],
   "source": [
    "from pyspark.sql.functions import log\n",
    "df = df.withColumn('LOG_SALESCLOSEPRICE', log('SALESCLOSEPRICE'))"
   ]
  },
  {
   "cell_type": "code",
   "execution_count": 24,
   "metadata": {
    "ExecuteTime": {
     "end_time": "2021-03-10T19:48:52.563752Z",
     "start_time": "2021-03-10T19:48:51.756162Z"
    }
   },
   "outputs": [
    {
     "name": "stdout",
     "output_type": "stream",
     "text": [
      "+-------------------+\n",
      "|LOG_SALESCLOSEPRICE|\n",
      "+-------------------+\n",
      "| 11.870599909242044|\n",
      "| 12.154779351142624|\n",
      "| 12.323855681186558|\n",
      "| 12.487485104968359|\n",
      "| 12.428816116823043|\n",
      "| 12.449018824140563|\n",
      "| 12.421184025147118|\n",
      "| 12.409013489526863|\n",
      "| 12.448979607685333|\n",
      "| 12.429216196844383|\n",
      "| 12.447056114972714|\n",
      "| 12.441144767709657|\n",
      "| 12.458774999085929|\n",
      "|  12.51719044345957|\n",
      "| 12.577636201962656|\n",
      "| 12.520883385370206|\n",
      "|  12.52449001235117|\n",
      "| 12.520883385370206|\n",
      "|  12.54966234992025|\n",
      "| 12.544746029277201|\n",
      "+-------------------+\n",
      "only showing top 20 rows\n",
      "\n"
     ]
    }
   ],
   "source": [
    "df.select('LOG_SALESCLOSEPRICE').show()"
   ]
  },
  {
   "cell_type": "code",
   "execution_count": 25,
   "metadata": {
    "ExecuteTime": {
     "end_time": "2021-03-10T19:48:55.262553Z",
     "start_time": "2021-03-10T19:48:52.565740Z"
    }
   },
   "outputs": [],
   "source": [
    "from pyspark.sql.functions import mean, stddev\n",
    "\n",
    "# Calculate values used for outlier filtering\n",
    "mean_val = df.agg({'LOG_SALESCLOSEPRICE': 'mean'}).collect()[0][0]\n",
    "stddev_val = df.agg({'LOG_SALESCLOSEPRICE': 'stddev'}).collect()[0][0]\n",
    "\n",
    "# Create three standard deviation (μ ± 3σ) lower and upper bounds for data\n",
    "low_bound = mean_val - (3 * stddev_val)\n",
    "hi_bound = mean_val + (3 * stddev_val)\n",
    "\n",
    "# Filter the data to fit between the lower and upper bounds\n",
    "df = df.where((df['LOG_SALESCLOSEPRICE'] < hi_bound) & (df['LOG_SALESCLOSEPRICE'] > low_bound))"
   ]
  },
  {
   "cell_type": "markdown",
   "metadata": {},
   "source": [
    "## Adjusting Data\n"
   ]
  },
  {
   "cell_type": "markdown",
   "metadata": {},
   "source": [
    "* MinMax Scaling\n",
    "\n",
    "    - does not change distribution\n",
    "    - changes the range to [0, 1]"
   ]
  },
  {
   "cell_type": "markdown",
   "metadata": {},
   "source": [
    "* Standardization\n",
    "    - shifting and scaling data to be closer to normal distribution\n",
    " "
   ]
  },
  {
   "cell_type": "markdown",
   "metadata": {},
   "source": [
    "* Log Scaling\n",
    "    - for skewed data\n",
    "    - closer to normal distribution"
   ]
  },
  {
   "cell_type": "markdown",
   "metadata": {},
   "source": [
    "### Custom Percentage Scaling\n",
    "In the slides we showed how to scale the data between 0 and 1. Sometimes you may wish to scale things differently for modeling or display purposes."
   ]
  },
  {
   "cell_type": "code",
   "execution_count": 26,
   "metadata": {
    "ExecuteTime": {
     "end_time": "2021-03-10T19:48:59.469150Z",
     "start_time": "2021-03-10T19:48:55.267176Z"
    }
   },
   "outputs": [
    {
     "name": "stdout",
     "output_type": "stream",
     "text": [
      "[Row(max(percentagescaleddays)=100.0)]\n",
      "[Row(min(percentagescaleddays)=0.0)]\n"
     ]
    }
   ],
   "source": [
    "# Define max and min values and collect them\n",
    "max_days = df.agg({'DAYSONMARKET': 'max'}).collect()[0][0]\n",
    "min_days = df.agg({'DAYSONMARKET': 'min'}).collect()[0][0]\n",
    "\n",
    "# Create a new column based off the scaled data\n",
    "df = df.withColumn('percentagescaleddays', \n",
    "                  (df['DAYSONMARKET'] - min_days) / (max_days - min_days) * 100)\n",
    "\n",
    "# Calc max and min for new column\n",
    "print(df.agg({'percentagescaleddays': 'max'}).collect())\n",
    "print(df.agg({'percentagescaleddays': 'min'}).collect())"
   ]
  },
  {
   "cell_type": "markdown",
   "metadata": {},
   "source": [
    "### Scaling your scalers\n",
    "In the previous exercise, we minmax scaled a single variable. Suppose you have a LOT of variables to scale, you don't want hundreds of lines to code for each. Let's expand on the previous exercise and make it a function."
   ]
  },
  {
   "cell_type": "code",
   "execution_count": 27,
   "metadata": {
    "ExecuteTime": {
     "end_time": "2021-03-10T19:48:59.480801Z",
     "start_time": "2021-03-10T19:48:59.472406Z"
    }
   },
   "outputs": [],
   "source": [
    "def min_max_scaler(df, cols_to_scale):\n",
    "      # Takes a dataframe and list of columns to minmax scale. Returns a dataframe.\n",
    "    for col in cols_to_scale:\n",
    "        # Define min and max values and collect them\n",
    "        max_days = df.agg({col: 'max'}).collect()[0][0]\n",
    "        min_days = df.agg({col: 'min'}).collect()[0][0]\n",
    "        new_column_name = 'scaled_' + col\n",
    "        # Create a new column based off the scaled data\n",
    "        df = df.withColumn(new_column_name, \n",
    "                          (df[new_column_name] - min_days) / (max_days - min_days))\n",
    "    return df"
   ]
  },
  {
   "cell_type": "code",
   "execution_count": 28,
   "metadata": {
    "ExecuteTime": {
     "end_time": "2021-03-10T19:48:59.545484Z",
     "start_time": "2021-03-10T19:48:59.482968Z"
    }
   },
   "outputs": [],
   "source": [
    "cols_to_scale = ['FIREPLACES']"
   ]
  },
  {
   "cell_type": "code",
   "execution_count": 29,
   "metadata": {
    "ExecuteTime": {
     "end_time": "2021-03-10T19:49:01.880021Z",
     "start_time": "2021-03-10T19:48:59.547697Z"
    }
   },
   "outputs": [
    {
     "ename": "AnalysisException",
     "evalue": "'Cannot resolve column name \"scaled_FIREPLACES\" among (NO., MLSID, STREETADDRESS, STREETNAME, POSTALCODE, STATEORPROVINCE, CITY, SALESCLOSEPRICE, LISTDATE, LISTPRICE, LISTTYPE, ORIGINALLISTPRICE, PRICEPERTSFT, FOUNDATIONSIZE, MAPLETTER, SCHOOLDISTRICTNUMBER, DAYSONMARKET, OFFMARKETDATE, FIREPLACES, ROOMTYPE, POTENTIALSHORTSALE, PDOM, GARAGEDESCRIPTION, SQFTABOVEGROUND, TAXES, TAXWITHASSESSMENTS, TAXYEAR, LIVINGAREA, YEARBUILT, ZONING, STYLE, ACRES, COOLINGDESCRIPTION, BACKONMARKETDATE, EXTERIOR, BASEMENT, BATHSFULL, BATHSHALF, BATHQUARTER, BATHSTHREEQUARTER, CLASS, BATHSTOTAL, BEDROOMS, SQFTBELOWGROUND, ASSOCIATIONFEE, ASSESSMENTPENDING, ASSESSEDVALUATION, LOG_SALESCLOSEPRICE, percentagescaleddays);'",
     "output_type": "error",
     "traceback": [
      "\u001b[0;31m---------------------------------------------------------------------------\u001b[0m",
      "\u001b[0;31mPy4JJavaError\u001b[0m                             Traceback (most recent call last)",
      "\u001b[0;32m/usr/local/spark/python/pyspark/sql/utils.py\u001b[0m in \u001b[0;36mdeco\u001b[0;34m(*a, **kw)\u001b[0m\n\u001b[1;32m     62\u001b[0m         \u001b[0;32mtry\u001b[0m\u001b[0;34m:\u001b[0m\u001b[0;34m\u001b[0m\u001b[0;34m\u001b[0m\u001b[0m\n\u001b[0;32m---> 63\u001b[0;31m             \u001b[0;32mreturn\u001b[0m \u001b[0mf\u001b[0m\u001b[0;34m(\u001b[0m\u001b[0;34m*\u001b[0m\u001b[0ma\u001b[0m\u001b[0;34m,\u001b[0m \u001b[0;34m**\u001b[0m\u001b[0mkw\u001b[0m\u001b[0;34m)\u001b[0m\u001b[0;34m\u001b[0m\u001b[0;34m\u001b[0m\u001b[0m\n\u001b[0m\u001b[1;32m     64\u001b[0m         \u001b[0;32mexcept\u001b[0m \u001b[0mpy4j\u001b[0m\u001b[0;34m.\u001b[0m\u001b[0mprotocol\u001b[0m\u001b[0;34m.\u001b[0m\u001b[0mPy4JJavaError\u001b[0m \u001b[0;32mas\u001b[0m \u001b[0me\u001b[0m\u001b[0;34m:\u001b[0m\u001b[0;34m\u001b[0m\u001b[0;34m\u001b[0m\u001b[0m\n",
      "\u001b[0;32m/usr/local/spark/python/lib/py4j-0.10.7-src.zip/py4j/protocol.py\u001b[0m in \u001b[0;36mget_return_value\u001b[0;34m(answer, gateway_client, target_id, name)\u001b[0m\n\u001b[1;32m    327\u001b[0m                     \u001b[0;34m\"An error occurred while calling {0}{1}{2}.\\n\"\u001b[0m\u001b[0;34m.\u001b[0m\u001b[0;34m\u001b[0m\u001b[0;34m\u001b[0m\u001b[0m\n\u001b[0;32m--> 328\u001b[0;31m                     format(target_id, \".\", name), value)\n\u001b[0m\u001b[1;32m    329\u001b[0m             \u001b[0;32melse\u001b[0m\u001b[0;34m:\u001b[0m\u001b[0;34m\u001b[0m\u001b[0;34m\u001b[0m\u001b[0m\n",
      "\u001b[0;31mPy4JJavaError\u001b[0m: An error occurred while calling o167.apply.\n: org.apache.spark.sql.AnalysisException: Cannot resolve column name \"scaled_FIREPLACES\" among (NO., MLSID, STREETADDRESS, STREETNAME, POSTALCODE, STATEORPROVINCE, CITY, SALESCLOSEPRICE, LISTDATE, LISTPRICE, LISTTYPE, ORIGINALLISTPRICE, PRICEPERTSFT, FOUNDATIONSIZE, MAPLETTER, SCHOOLDISTRICTNUMBER, DAYSONMARKET, OFFMARKETDATE, FIREPLACES, ROOMTYPE, POTENTIALSHORTSALE, PDOM, GARAGEDESCRIPTION, SQFTABOVEGROUND, TAXES, TAXWITHASSESSMENTS, TAXYEAR, LIVINGAREA, YEARBUILT, ZONING, STYLE, ACRES, COOLINGDESCRIPTION, BACKONMARKETDATE, EXTERIOR, BASEMENT, BATHSFULL, BATHSHALF, BATHQUARTER, BATHSTHREEQUARTER, CLASS, BATHSTOTAL, BEDROOMS, SQFTBELOWGROUND, ASSOCIATIONFEE, ASSESSMENTPENDING, ASSESSEDVALUATION, LOG_SALESCLOSEPRICE, percentagescaleddays);\n\tat org.apache.spark.sql.Dataset$$anonfun$resolve$1.apply(Dataset.scala:224)\n\tat org.apache.spark.sql.Dataset$$anonfun$resolve$1.apply(Dataset.scala:224)\n\tat scala.Option.getOrElse(Option.scala:121)\n\tat org.apache.spark.sql.Dataset.resolve(Dataset.scala:223)\n\tat org.apache.spark.sql.Dataset.col(Dataset.scala:1276)\n\tat org.apache.spark.sql.Dataset.apply(Dataset.scala:1243)\n\tat sun.reflect.NativeMethodAccessorImpl.invoke0(Native Method)\n\tat sun.reflect.NativeMethodAccessorImpl.invoke(NativeMethodAccessorImpl.java:62)\n\tat sun.reflect.DelegatingMethodAccessorImpl.invoke(DelegatingMethodAccessorImpl.java:43)\n\tat java.lang.reflect.Method.invoke(Method.java:498)\n\tat py4j.reflection.MethodInvoker.invoke(MethodInvoker.java:244)\n\tat py4j.reflection.ReflectionEngine.invoke(ReflectionEngine.java:357)\n\tat py4j.Gateway.invoke(Gateway.java:282)\n\tat py4j.commands.AbstractCommand.invokeMethod(AbstractCommand.java:132)\n\tat py4j.commands.CallCommand.execute(CallCommand.java:79)\n\tat py4j.GatewayConnection.run(GatewayConnection.java:238)\n\tat java.lang.Thread.run(Thread.java:748)\n",
      "\nDuring handling of the above exception, another exception occurred:\n",
      "\u001b[0;31mAnalysisException\u001b[0m                         Traceback (most recent call last)",
      "\u001b[0;32m<ipython-input-29-2a320aab0681>\u001b[0m in \u001b[0;36m<module>\u001b[0;34m\u001b[0m\n\u001b[0;32m----> 1\u001b[0;31m \u001b[0mdf\u001b[0m \u001b[0;34m=\u001b[0m \u001b[0mmin_max_scaler\u001b[0m\u001b[0;34m(\u001b[0m\u001b[0mdf\u001b[0m\u001b[0;34m,\u001b[0m \u001b[0mcols_to_scale\u001b[0m\u001b[0;34m)\u001b[0m\u001b[0;34m\u001b[0m\u001b[0;34m\u001b[0m\u001b[0m\n\u001b[0m\u001b[1;32m      2\u001b[0m \u001b[0;31m# Show that our data is now between 0 and 1\u001b[0m\u001b[0;34m\u001b[0m\u001b[0;34m\u001b[0m\u001b[0;34m\u001b[0m\u001b[0m\n\u001b[1;32m      3\u001b[0m \u001b[0;31m#df[['DAYSONMARKET', 'scaled_DAYSONMARKET']].show()\u001b[0m\u001b[0;34m\u001b[0m\u001b[0;34m\u001b[0m\u001b[0;34m\u001b[0m\u001b[0m\n",
      "\u001b[0;32m<ipython-input-27-7b93c01a4aee>\u001b[0m in \u001b[0;36mmin_max_scaler\u001b[0;34m(df, cols_to_scale)\u001b[0m\n\u001b[1;32m      8\u001b[0m         \u001b[0;31m# Create a new column based off the scaled data\u001b[0m\u001b[0;34m\u001b[0m\u001b[0;34m\u001b[0m\u001b[0;34m\u001b[0m\u001b[0m\n\u001b[1;32m      9\u001b[0m         df = df.withColumn(new_column_name, \n\u001b[0;32m---> 10\u001b[0;31m                           (df[new_column_name] - min_days) / (max_days - min_days))\n\u001b[0m\u001b[1;32m     11\u001b[0m     \u001b[0;32mreturn\u001b[0m \u001b[0mdf\u001b[0m\u001b[0;34m\u001b[0m\u001b[0;34m\u001b[0m\u001b[0m\n",
      "\u001b[0;32m/usr/local/spark/python/pyspark/sql/dataframe.py\u001b[0m in \u001b[0;36m__getitem__\u001b[0;34m(self, item)\u001b[0m\n\u001b[1;32m   1283\u001b[0m         \"\"\"\n\u001b[1;32m   1284\u001b[0m         \u001b[0;32mif\u001b[0m \u001b[0misinstance\u001b[0m\u001b[0;34m(\u001b[0m\u001b[0mitem\u001b[0m\u001b[0;34m,\u001b[0m \u001b[0mbasestring\u001b[0m\u001b[0;34m)\u001b[0m\u001b[0;34m:\u001b[0m\u001b[0;34m\u001b[0m\u001b[0;34m\u001b[0m\u001b[0m\n\u001b[0;32m-> 1285\u001b[0;31m             \u001b[0mjc\u001b[0m \u001b[0;34m=\u001b[0m \u001b[0mself\u001b[0m\u001b[0;34m.\u001b[0m\u001b[0m_jdf\u001b[0m\u001b[0;34m.\u001b[0m\u001b[0mapply\u001b[0m\u001b[0;34m(\u001b[0m\u001b[0mitem\u001b[0m\u001b[0;34m)\u001b[0m\u001b[0;34m\u001b[0m\u001b[0;34m\u001b[0m\u001b[0m\n\u001b[0m\u001b[1;32m   1286\u001b[0m             \u001b[0;32mreturn\u001b[0m \u001b[0mColumn\u001b[0m\u001b[0;34m(\u001b[0m\u001b[0mjc\u001b[0m\u001b[0;34m)\u001b[0m\u001b[0;34m\u001b[0m\u001b[0;34m\u001b[0m\u001b[0m\n\u001b[1;32m   1287\u001b[0m         \u001b[0;32melif\u001b[0m \u001b[0misinstance\u001b[0m\u001b[0;34m(\u001b[0m\u001b[0mitem\u001b[0m\u001b[0;34m,\u001b[0m \u001b[0mColumn\u001b[0m\u001b[0;34m)\u001b[0m\u001b[0;34m:\u001b[0m\u001b[0;34m\u001b[0m\u001b[0;34m\u001b[0m\u001b[0m\n",
      "\u001b[0;32m/usr/local/spark/python/lib/py4j-0.10.7-src.zip/py4j/java_gateway.py\u001b[0m in \u001b[0;36m__call__\u001b[0;34m(self, *args)\u001b[0m\n\u001b[1;32m   1255\u001b[0m         \u001b[0manswer\u001b[0m \u001b[0;34m=\u001b[0m \u001b[0mself\u001b[0m\u001b[0;34m.\u001b[0m\u001b[0mgateway_client\u001b[0m\u001b[0;34m.\u001b[0m\u001b[0msend_command\u001b[0m\u001b[0;34m(\u001b[0m\u001b[0mcommand\u001b[0m\u001b[0;34m)\u001b[0m\u001b[0;34m\u001b[0m\u001b[0;34m\u001b[0m\u001b[0m\n\u001b[1;32m   1256\u001b[0m         return_value = get_return_value(\n\u001b[0;32m-> 1257\u001b[0;31m             answer, self.gateway_client, self.target_id, self.name)\n\u001b[0m\u001b[1;32m   1258\u001b[0m \u001b[0;34m\u001b[0m\u001b[0m\n\u001b[1;32m   1259\u001b[0m         \u001b[0;32mfor\u001b[0m \u001b[0mtemp_arg\u001b[0m \u001b[0;32min\u001b[0m \u001b[0mtemp_args\u001b[0m\u001b[0;34m:\u001b[0m\u001b[0;34m\u001b[0m\u001b[0;34m\u001b[0m\u001b[0m\n",
      "\u001b[0;32m/usr/local/spark/python/pyspark/sql/utils.py\u001b[0m in \u001b[0;36mdeco\u001b[0;34m(*a, **kw)\u001b[0m\n\u001b[1;32m     67\u001b[0m                                              e.java_exception.getStackTrace()))\n\u001b[1;32m     68\u001b[0m             \u001b[0;32mif\u001b[0m \u001b[0ms\u001b[0m\u001b[0;34m.\u001b[0m\u001b[0mstartswith\u001b[0m\u001b[0;34m(\u001b[0m\u001b[0;34m'org.apache.spark.sql.AnalysisException: '\u001b[0m\u001b[0;34m)\u001b[0m\u001b[0;34m:\u001b[0m\u001b[0;34m\u001b[0m\u001b[0;34m\u001b[0m\u001b[0m\n\u001b[0;32m---> 69\u001b[0;31m                 \u001b[0;32mraise\u001b[0m \u001b[0mAnalysisException\u001b[0m\u001b[0;34m(\u001b[0m\u001b[0ms\u001b[0m\u001b[0;34m.\u001b[0m\u001b[0msplit\u001b[0m\u001b[0;34m(\u001b[0m\u001b[0;34m': '\u001b[0m\u001b[0;34m,\u001b[0m \u001b[0;36m1\u001b[0m\u001b[0;34m)\u001b[0m\u001b[0;34m[\u001b[0m\u001b[0;36m1\u001b[0m\u001b[0;34m]\u001b[0m\u001b[0;34m,\u001b[0m \u001b[0mstackTrace\u001b[0m\u001b[0;34m)\u001b[0m\u001b[0;34m\u001b[0m\u001b[0;34m\u001b[0m\u001b[0m\n\u001b[0m\u001b[1;32m     70\u001b[0m             \u001b[0;32mif\u001b[0m \u001b[0ms\u001b[0m\u001b[0;34m.\u001b[0m\u001b[0mstartswith\u001b[0m\u001b[0;34m(\u001b[0m\u001b[0;34m'org.apache.spark.sql.catalyst.analysis'\u001b[0m\u001b[0;34m)\u001b[0m\u001b[0;34m:\u001b[0m\u001b[0;34m\u001b[0m\u001b[0;34m\u001b[0m\u001b[0m\n\u001b[1;32m     71\u001b[0m                 \u001b[0;32mraise\u001b[0m \u001b[0mAnalysisException\u001b[0m\u001b[0;34m(\u001b[0m\u001b[0ms\u001b[0m\u001b[0;34m.\u001b[0m\u001b[0msplit\u001b[0m\u001b[0;34m(\u001b[0m\u001b[0;34m': '\u001b[0m\u001b[0;34m,\u001b[0m \u001b[0;36m1\u001b[0m\u001b[0;34m)\u001b[0m\u001b[0;34m[\u001b[0m\u001b[0;36m1\u001b[0m\u001b[0;34m]\u001b[0m\u001b[0;34m,\u001b[0m \u001b[0mstackTrace\u001b[0m\u001b[0;34m)\u001b[0m\u001b[0;34m\u001b[0m\u001b[0;34m\u001b[0m\u001b[0m\n",
      "\u001b[0;31mAnalysisException\u001b[0m: 'Cannot resolve column name \"scaled_FIREPLACES\" among (NO., MLSID, STREETADDRESS, STREETNAME, POSTALCODE, STATEORPROVINCE, CITY, SALESCLOSEPRICE, LISTDATE, LISTPRICE, LISTTYPE, ORIGINALLISTPRICE, PRICEPERTSFT, FOUNDATIONSIZE, MAPLETTER, SCHOOLDISTRICTNUMBER, DAYSONMARKET, OFFMARKETDATE, FIREPLACES, ROOMTYPE, POTENTIALSHORTSALE, PDOM, GARAGEDESCRIPTION, SQFTABOVEGROUND, TAXES, TAXWITHASSESSMENTS, TAXYEAR, LIVINGAREA, YEARBUILT, ZONING, STYLE, ACRES, COOLINGDESCRIPTION, BACKONMARKETDATE, EXTERIOR, BASEMENT, BATHSFULL, BATHSHALF, BATHQUARTER, BATHSTHREEQUARTER, CLASS, BATHSTOTAL, BEDROOMS, SQFTBELOWGROUND, ASSOCIATIONFEE, ASSESSMENTPENDING, ASSESSEDVALUATION, LOG_SALESCLOSEPRICE, percentagescaleddays);'"
     ]
    }
   ],
   "source": [
    "df = min_max_scaler(df, cols_to_scale)\n",
    "# Show that our data is now between 0 and 1\n",
    "#df[['DAYSONMARKET', 'scaled_DAYSONMARKET']].show()"
   ]
  },
  {
   "cell_type": "code",
   "execution_count": null,
   "metadata": {
    "ExecuteTime": {
     "end_time": "2021-03-10T19:49:01.882201Z",
     "start_time": "2021-03-10T19:48:14.080Z"
    }
   },
   "outputs": [],
   "source": [
    "df.columns"
   ]
  },
  {
   "cell_type": "markdown",
   "metadata": {},
   "source": [
    "### Correcting Right Skew Data\n",
    "In the slides we showed how you might use log transforms to fix positively skewed data (data whose distribution is mostly to the left). To correct negative skew (data mostly to the right) you need to take an extra step called \"reflecting\" before you can apply the inverse of `log`, written as `(1/log)` to make the data look more like normal a normal distribution. Reflecting data uses the following formula to reflect each value: `(x_max+1)-x`."
   ]
  },
  {
   "cell_type": "code",
   "execution_count": 30,
   "metadata": {
    "ExecuteTime": {
     "end_time": "2021-03-10T19:49:10.386435Z",
     "start_time": "2021-03-10T19:49:10.378110Z"
    }
   },
   "outputs": [],
   "source": [
    "from pyspark.sql.functions import log"
   ]
  },
  {
   "cell_type": "code",
   "execution_count": 31,
   "metadata": {
    "ExecuteTime": {
     "end_time": "2021-03-10T19:49:11.486164Z",
     "start_time": "2021-03-10T19:49:10.589899Z"
    }
   },
   "outputs": [
    {
     "name": "stdout",
     "output_type": "stream",
     "text": [
      "[Row(skewness(YEARBUILT)=-0.24797344910486546)]\n"
     ]
    }
   ],
   "source": [
    "# Compute the skewness\n",
    "print(df.agg({'YEARBUILT': 'skewness'}).collect())"
   ]
  },
  {
   "cell_type": "code",
   "execution_count": 32,
   "metadata": {
    "ExecuteTime": {
     "end_time": "2021-03-10T19:49:12.774989Z",
     "start_time": "2021-03-10T19:49:11.488319Z"
    }
   },
   "outputs": [],
   "source": [
    "# Calculate the max year\n",
    "max_year = df.agg({'YEARBUILT': 'max'}).collect()[0][0]\n",
    "\n",
    "# Create a new column of reflected data\n",
    "df = df.withColumn('Reflect_YearBuilt', (max_year + 1) - df['YEARBUILT'])\n",
    "\n",
    "# Create a new column based reflected data\n",
    "df = df.withColumn('adj_yearbuilt', 1 / log(df['Reflect_YearBuilt']))"
   ]
  },
  {
   "cell_type": "markdown",
   "metadata": {},
   "source": [
    "## Working with Missing Data"
   ]
  },
  {
   "cell_type": "markdown",
   "metadata": {},
   "source": [
    "### Types of Missing \n",
    "* Missing completely at random \n",
    "\n",
    "Missing Data is just a completely random subset \n",
    "* Missing at random \n",
    "\n",
    "Missing conditionally at random based on another observation \n",
    "* Missing not at random \n",
    "\n",
    "Data is missing because of how it is collected\n"
   ]
  },
  {
   "cell_type": "markdown",
   "metadata": {},
   "source": [
    "### Plotting Missing Values\n"
   ]
  },
  {
   "cell_type": "code",
   "execution_count": 33,
   "metadata": {
    "ExecuteTime": {
     "end_time": "2021-03-10T19:49:14.618582Z",
     "start_time": "2021-03-10T19:49:12.777705Z"
    }
   },
   "outputs": [
    {
     "data": {
      "text/plain": [
       "<AxesSubplot:>"
      ]
     },
     "execution_count": 33,
     "metadata": {},
     "output_type": "execute_result"
    },
    {
     "data": {
      "image/png": "[encoded data removed]",
      "text/plain": [
       "<Figure size 432x288 with 2 Axes>"
      ]
     },
     "metadata": {
      "needs_background": "light"
     },
     "output_type": "display_data"
    }
   ],
   "source": [
    "# Import libraryimport seaborn as sns\n",
    "# subset the dataframe\n",
    "sub_df = df.select(['BATHSTOTAL'])\n",
    "\n",
    "# sample the dataframe\n",
    "sample_df = sub_df.sample(False, .5, 4)\n",
    "\n",
    "# Convert to Pandas DataFrame\n",
    "pandas_df = sample_df.toPandas()\n",
    "\n",
    "# Plot it\n",
    "sns.heatmap(data=pandas_df.isnull())"
   ]
  },
  {
   "cell_type": "markdown",
   "metadata": {},
   "source": [
    "### Visualizing Missing Data\n",
    "Being able to plot missing values is a great way to quickly understand how much of your data is missing. It can also help highlight when variables are missing in a pattern something that will need to be handled with care lest your model be biased.\n",
    "\n",
    "Which variable has the most missing values? Run all lines of code except the last one to determine the answer. Once you're confident, and fill out the value and hit \"Submit Answer\"."
   ]
  },
  {
   "cell_type": "code",
   "execution_count": 34,
   "metadata": {
    "ExecuteTime": {
     "end_time": "2021-03-10T19:49:14.623490Z",
     "start_time": "2021-03-10T19:49:14.620586Z"
    }
   },
   "outputs": [],
   "source": [
    "columns = [\n",
    " 'COOLINGDESCRIPTION',\n",
    " 'BACKONMARKETDATE',\n",
    " 'EXTERIOR',\n",
    " 'BASEMENT',\n",
    " 'CLASS',\n",
    " 'BATHSTOTAL',\n",
    " 'BEDROOMS'\n",
    " ]"
   ]
  },
  {
   "cell_type": "code",
   "execution_count": 35,
   "metadata": {
    "ExecuteTime": {
     "end_time": "2021-03-10T19:49:15.859542Z",
     "start_time": "2021-03-10T19:49:14.625401Z"
    }
   },
   "outputs": [
    {
     "data": {
      "image/png": "[encoded data removed]",
      "text/plain": [
       "<Figure size 432x288 with 2 Axes>"
      ]
     },
     "metadata": {
      "needs_background": "light"
     },
     "output_type": "display_data"
    }
   ],
   "source": [
    "# Sample the dataframe and convert to Pandas\n",
    "sample_df = df.select(columns).sample(False, 0.1, 42)\n",
    "pandas_df = sample_df.toPandas()\n",
    "\n",
    "# Convert all values to T/F\n",
    "tf_df = pandas_df.isnull()\n",
    "\n",
    "# Plot it\n",
    "sns.heatmap(data=tf_df)\n",
    "plt.xticks(rotation=30, fontsize=10)\n",
    "plt.yticks(rotation=0, fontsize=10)\n",
    "plt.show()"
   ]
  },
  {
   "cell_type": "code",
   "execution_count": 36,
   "metadata": {
    "ExecuteTime": {
     "end_time": "2021-03-10T19:49:15.864643Z",
     "start_time": "2021-03-10T19:49:15.861748Z"
    }
   },
   "outputs": [],
   "source": [
    "# Set the answer to the column with the most missing data\n",
    "answer = 'BACKONMARKETDATE'"
   ]
  },
  {
   "cell_type": "markdown",
   "metadata": {},
   "source": [
    "### Imputing Missing Data\n",
    "Missing data happens. If we make the assumption that our data is missing completely at random, we are making the assumption that what data we do have, is a good representation of the population. If we have a few values we could remove them or we could use the mean or median as a replacement. In this exercise, we will look at `'PDOM'`: Days on Market at Current Price."
   ]
  },
  {
   "cell_type": "code",
   "execution_count": 37,
   "metadata": {
    "ExecuteTime": {
     "end_time": "2021-03-10T19:49:17.570639Z",
     "start_time": "2021-03-10T19:49:15.867564Z"
    }
   },
   "outputs": [
    {
     "data": {
      "text/plain": [
       "DataFrame[NO.: bigint, MLSID: string, STREETADDRESS: string, STREETNAME: string, POSTALCODE: bigint, STATEORPROVINCE: string, CITY: string, SALESCLOSEPRICE: bigint, LISTDATE: string, LISTPRICE: bigint, LISTTYPE: string, ORIGINALLISTPRICE: bigint, PRICEPERTSFT: double, FOUNDATIONSIZE: bigint, MAPLETTER: string, SCHOOLDISTRICTNUMBER: string, DAYSONMARKET: bigint, OFFMARKETDATE: string, FIREPLACES: bigint, ROOMTYPE: string, POTENTIALSHORTSALE: string, PDOM: bigint, GARAGEDESCRIPTION: string, SQFTABOVEGROUND: bigint, TAXES: bigint, TAXWITHASSESSMENTS: double, TAXYEAR: bigint, LIVINGAREA: bigint, YEARBUILT: bigint, ZONING: string, STYLE: string, ACRES: double, COOLINGDESCRIPTION: string, BACKONMARKETDATE: double, EXTERIOR: string, BASEMENT: string, BATHSFULL: bigint, BATHSHALF: bigint, BATHQUARTER: bigint, BATHSTHREEQUARTER: double, CLASS: string, BATHSTOTAL: bigint, BEDROOMS: bigint, SQFTBELOWGROUND: bigint, ASSOCIATIONFEE: bigint, ASSESSMENTPENDING: string, ASSESSEDVALUATION: double, LOG_SALESCLOSEPRICE: double, percentagescaleddays: double, Reflect_YearBuilt: bigint, adj_yearbuilt: double]"
      ]
     },
     "execution_count": 37,
     "metadata": {},
     "output_type": "execute_result"
    }
   ],
   "source": [
    "# Count missing rows\n",
    "missing = df.where(df['PDOM'].isNull()).count()\n",
    "\n",
    "# Calculate the mean value\n",
    "col_mean = df.agg({'PDOM': 'mean'}).collect()[0][0]\n",
    "\n",
    "# Replacing with the mean value for that column\n",
    "df.fillna(col_mean, subset=['PDOM'])"
   ]
  },
  {
   "cell_type": "markdown",
   "metadata": {},
   "source": [
    "### Calculate Missing Percents\n",
    "Automation is the future of data science. Learning to automate some of your data preparation pays dividends. In this exercise, we will automate dropping columns if they are missing data beyond a specific threshold."
   ]
  },
  {
   "cell_type": "code",
   "execution_count": 38,
   "metadata": {
    "ExecuteTime": {
     "end_time": "2021-03-10T19:49:17.577813Z",
     "start_time": "2021-03-10T19:49:17.572804Z"
    }
   },
   "outputs": [],
   "source": [
    "def column_dropper(df, threshold):\n",
    "    # Takes a dataframe and threshold for missing values. Returns a dataframe.\n",
    "    total_records = df.count()\n",
    "    for col in df.columns:\n",
    "        # Calculate the percentage of missing values\n",
    "        missing = df.where(df[col].isNull()).count()\n",
    "        missing_percent = missing / total_records\n",
    "        # Drop column if percent of missing is more than threshold\n",
    "        if missing_percent > threshold:\n",
    "            df = df.drop(col)\n",
    "    return df"
   ]
  },
  {
   "cell_type": "code",
   "execution_count": null,
   "metadata": {
    "ExecuteTime": {
     "end_time": "2021-03-10T19:49:18.870699Z",
     "start_time": "2021-03-10T19:49:17.579631Z"
    }
   },
   "outputs": [],
   "source": [
    "# Drop columns that are more than 60% missing\n",
    "df = column_dropper(df, .6)"
   ]
  },
  {
   "cell_type": "markdown",
   "metadata": {},
   "source": [
    "## Getting More Data"
   ]
  },
  {
   "cell_type": "markdown",
   "metadata": {},
   "source": [
    "* PySpark Data Frame Joins\n"
   ]
  },
  {
   "cell_type": "code",
   "execution_count": null,
   "metadata": {},
   "outputs": [],
   "source": [
    "DataFrame.join(other,      # Other DataFrame to merge    \n",
    "               on=None,    # The keys to join on    \n",
    "               how=None)   # Type of join to perform (default is 'inner')"
   ]
  },
  {
   "cell_type": "code",
   "execution_count": null,
   "metadata": {
    "ExecuteTime": {
     "end_time": "2021-03-10T19:54:38.503639Z",
     "start_time": "2021-03-10T19:54:38.496422Z"
    }
   },
   "outputs": [],
   "source": [
    "# Specify join conditoncon\n",
    "d = [df['OFFMARKETDATE'] == hdf['dt']]\n",
    "\n",
    "# Join two hdf onto df\n",
    "df = df.join(hdf, on=cond, 'left')\n",
    "\n",
    "# How many sales occurred on bank holidays?\n",
    "df.where(~df['nm'].isNull()).count()"
   ]
  },
  {
   "cell_type": "markdown",
   "metadata": {
    "ExecuteTime": {
     "end_time": "2021-03-10T19:55:02.788611Z",
     "start_time": "2021-03-10T19:55:02.783909Z"
    }
   },
   "source": [
    "* SparkSQL Join"
   ]
  },
  {
   "cell_type": "code",
   "execution_count": null,
   "metadata": {},
   "outputs": [],
   "source": [
    "# Register the dataframe as a temp table\n",
    "df.createOrReplaceTempView(\"df\")\n",
    "hdf.createOrReplaceTempView(\"hdf\")"
   ]
  },
  {
   "cell_type": "code",
   "execution_count": null,
   "metadata": {},
   "outputs": [],
   "source": [
    "# Write a SQL Statement\n",
    "sql_df = spark.sql(\"\"\"\n",
    "                    SELECT\n",
    "                    *                      \n",
    "                    FROM df                      \n",
    "                    LEFT JOIN hdf                      \n",
    "                    ON df.OFFMARKETDATE = hdf.dt\n",
    "                    \"\"\")"
   ]
  },
  {
   "cell_type": "markdown",
   "metadata": {},
   "source": [
    "### A Dangerous Join\n",
    "In this exercise, we will be joining on Latitude and Longitude to bring in another dataset that measures how walk-friendly a neighborhood is. We'll need to be careful to make sure our joining columns are the same data type and ensure we are joining on the same precision (number of digits after the decimal) or our join won't work!\n",
    "\n",
    "Below you will find that `df['latitude']` and `df['longitude']` are at a higher precision than `walk_df['longitude']` and `walk_df['latitude']` we'll need to round them to the same precision so the join will work correctly."
   ]
  },
  {
   "cell_type": "code",
   "execution_count": null,
   "metadata": {},
   "outputs": [],
   "source": [
    "# Cast data types\n",
    "walk_df = walk_df.withColumn('longitude', walk_df['longitude'].cast('double'))\n",
    "walk_df = walk_df.withColumn('latitude', walk_df['latitude'].cast('double'))\n",
    "\n",
    "# Round precision\n",
    "df = df.withColumn('longitude', round('longitude', 5))\n",
    "df = df.withColumn('latitude', round('latitude', 5))\n",
    "\n",
    "# Create join condition\n",
    "condition = [walk_df['latitude'] == df['latitude'], walk_df['longitude'] == df['longitude']]\n",
    "\n",
    "# Join the dataframes together\n",
    "join_df = df.join(walk_df, on=condition, how='left')\n",
    "\n",
    "# Count non-null records from new field\n",
    "print(join_df.where(~join_df['walkscore'].isNull()).count())"
   ]
  },
  {
   "cell_type": "markdown",
   "metadata": {},
   "source": [
    "### Spark SQL Join\n",
    "Sometimes it is much easier to write complex joins in SQL. In this exercise, we will start with the join keys already in the same format and precision but will use SparkSQL to do the joining."
   ]
  },
  {
   "cell_type": "code",
   "execution_count": null,
   "metadata": {},
   "outputs": [],
   "source": [
    "# Register dataframes as tables\n",
    "df.createOrReplaceTempView(\"df\")\n",
    "walk_df.createOrReplaceTempView(\"walk_df\")\n",
    "\n",
    "# SQL to join dataframes\n",
    "join_sql = \"\"\"\n",
    "            SELECT \n",
    "            *\n",
    "            FROM df\n",
    "            LEFT JOIN walk_df\n",
    "            ON df.longitude = walk_df.longitude\n",
    "            AND df.latitude = walk_df.latitude\n",
    "            \"\"\"\n",
    "# Perform sql join\n",
    "joined_df = spark.sql(join_sql)"
   ]
  },
  {
   "cell_type": "markdown",
   "metadata": {},
   "source": [
    "### Checking for Bad Joins\n",
    "Joins can go bad silently if we are not careful, meaning they will not error out but instead return mangled data with more or less data than you'd intended. Let's take a look at a couple ways that joining incorrectly can change your data set for the worse.\n",
    "\n",
    "In this example we will look at what happens if you join two dataframes together when the join keys are not the same precision and compare the record counts between the correct join and the incorrect one."
   ]
  },
  {
   "cell_type": "code",
   "execution_count": null,
   "metadata": {},
   "outputs": [],
   "source": [
    "# Join on mismatched keys precision \n",
    "wrong_prec_cond = [df_orig['longitude'] == walk_df['longitude'], df_orig['latitude'] == walk_df['latitude']]\n",
    "wrong_prec_df = df_orig.join(walk_df, on=wrong_prec_cond, how='left')\n",
    "\n",
    "# Compare bad join to the correct one\n",
    "print(wrong_prec_df.where(wrong_prec_df['walkscore'].isNull()).count())\n",
    "print(correct_join_df.where(correct_join_df['walkscore'].isNull()).count())\n",
    "\n",
    "# Create a join on too few keys\n",
    "few_keys_cond = [df['longitude'] == walk_df['longitude']]\n",
    "few_keys_df = df.join(walk_df, on=few_keys_cond, how='left')\n",
    "\n",
    "# Compare bad join to the correct one\n",
    "print(\"Record Count of the Too Few Keys Join Example: \" + str(few_keys_df.count()))\n",
    "print(\"Record Count of the Correct Join Example: \" + str(correct_join_df.count()))"
   ]
  },
  {
   "cell_type": "code",
   "execution_count": null,
   "metadata": {},
   "outputs": [],
   "source": []
  }
 ],
 "metadata": {
  "kernelspec": {
   "display_name": "Python 3",
   "language": "python",
   "name": "python3"
  },
  "language_info": {
   "codemirror_mode": {
    "name": "ipython",
    "version": 3
   },
   "file_extension": ".py",
   "mimetype": "text/x-python",
   "name": "python",
   "nbconvert_exporter": "python",
   "pygments_lexer": "ipython3",
   "version": "3.7.6"
  },
  "toc": {
   "base_numbering": 1,
   "nav_menu": {},
   "number_sections": false,
   "sideBar": true,
   "skip_h1_title": false,
   "title_cell": "Table of Contents",
   "title_sidebar": "Contents",
   "toc_cell": false,
   "toc_position": {},
   "toc_section_display": true,
   "toc_window_display": false
  }
 },
 "nbformat": 4,
 "nbformat_minor": 4
}
